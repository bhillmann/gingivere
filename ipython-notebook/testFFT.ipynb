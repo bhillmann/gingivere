{
 "metadata": {
  "name": "",
  "signature": "sha256:2a8c66c7cadc335f38c62c2629dcd559462da89f0cafc0da072bf50ba5cd1ccd"
 },
 "nbformat": 3,
 "nbformat_minor": 0,
 "worksheets": [
  {
   "cells": [
    {
     "cell_type": "code",
     "collapsed": false,
     "input": [
      "%pylab\n",
      "import pandas as pd\n",
      "from scipy.fftpack import *"
     ],
     "language": "python",
     "metadata": {},
     "outputs": [
      {
       "output_type": "stream",
       "stream": "stdout",
       "text": [
        "Using matplotlib backend: Qt4Agg\n",
        "Populating the interactive namespace from numpy and matplotlib\n"
       ]
      }
     ],
     "prompt_number": 4
    },
    {
     "cell_type": "code",
     "collapsed": false,
     "input": [
      "file = \"D:\\gingivere\\data\\Dog_1_interictal_segment_0001.h5\"\n",
      "store = pd.HDFStore(file)"
     ],
     "language": "python",
     "metadata": {},
     "outputs": [],
     "prompt_number": 5
    },
    {
     "cell_type": "code",
     "collapsed": false,
     "input": [
      "store.keys()"
     ],
     "language": "python",
     "metadata": {},
     "outputs": [
      {
       "metadata": {},
       "output_type": "pyout",
       "prompt_number": 6,
       "text": [
        "['/data']"
       ]
      }
     ],
     "prompt_number": 6
    },
    {
     "cell_type": "code",
     "collapsed": false,
     "input": [
      "data = store['data']"
     ],
     "language": "python",
     "metadata": {},
     "outputs": [],
     "prompt_number": 7
    },
    {
     "cell_type": "code",
     "collapsed": false,
     "input": [
      "store.close()"
     ],
     "language": "python",
     "metadata": {},
     "outputs": [],
     "prompt_number": 23
    },
    {
     "cell_type": "code",
     "collapsed": false,
     "input": [
      "# data.apply(rfft, axis=1)"
     ],
     "language": "python",
     "metadata": {},
     "outputs": [],
     "prompt_number": 24
    },
    {
     "cell_type": "code",
     "collapsed": false,
     "input": [
      "def pl_power_spectrum(datum):\n",
      "    plt.subplot(311)\n",
      "    plt.plot(range(len(datum)), datum, 'r')\n",
      "    xlabel(\"Time\")\n",
      "    F = rfft(datum)\n",
      "    N = datum.shape[0]\n",
      "    dt = 1/400\n",
      "    w = rfftfreq(N, dt)\n",
      "    plt.subplot(312)\n",
      "    plt.plot(w, F, 'b-')\n",
      "    ylabel(\"POWER\")\n",
      "    subplot(313)\n",
      "    plot(w, F, 'b-')\n",
      "    xlim([0, 50])          # replot but zoom in on freqs 0-50 Hz\n",
      "    ylabel(\"POWER\")\n",
      "    xlabel(\"FREQUENCY (Hz)\")\n",
      "    plt.show()\n",
      "    return w"
     ],
     "language": "python",
     "metadata": {},
     "outputs": [],
     "prompt_number": 25
    },
    {
     "cell_type": "code",
     "collapsed": false,
     "input": [
      "def window_generator(datum):\n",
      "    window_size = 400*60\n",
      "    size = len(datum)\n",
      "    i = 0\n",
      "    while(i <= size):\n",
      "        yield datum[i:i+window_size]\n",
      "        i += int(window_size/2)\n",
      "\n",
      "datum = data[:1].values[0]\n",
      "windowed = np.asarray([x for x in window_generator(datum)])"
     ],
     "language": "python",
     "metadata": {},
     "outputs": [],
     "prompt_number": 26
    },
    {
     "cell_type": "code",
     "collapsed": false,
     "input": [
      "windowed"
     ],
     "language": "python",
     "metadata": {},
     "outputs": [
      {
       "metadata": {},
       "output_type": "pyout",
       "prompt_number": 27,
       "text": [
        "array([array([  0.,  13.,  15., ...,  11.,  28.,  27.]),\n",
        "       array([ 18.,  17.,  22., ...,  14.,  21.,  26.]),\n",
        "       array([ 15.,  -3., -10., ...,  32.,  20.,  27.]),\n",
        "       array([ 27.,  27.,  25., ...,  63.,  64.,  55.]),\n",
        "       array([ 31.,  22.,  21., ...,  11., -11., -43.]),\n",
        "       array([ 45.,  29.,  13., ...,  17.,   2., -14.]),\n",
        "       array([ -88., -114., -126., ...,   -6.,  -15.,  -19.]),\n",
        "       array([-24., -32., -48., ...,  -4.,   0.,  29.]),\n",
        "       array([-23., -20.,  -6., ..., -30.,  -9.,   1.]),\n",
        "       array([ 65.,  82.,  83., ..., -10., -22., -21.]),\n",
        "       array([ -6., -24., -30., ..., -13., -14.,  -4.]),\n",
        "       array([-20., -21., -30., ..., -52., -45., -33.]),\n",
        "       array([ -5.,   4.,   8., ...,   8.,  21.,  26.]),\n",
        "       array([-20., -20., -17., ..., -23., -26., -28.]),\n",
        "       array([ 22.,  23.,  23., ..., -13., -25., -25.]),\n",
        "       array([-30., -28., -24., ..., -36., -36., -38.]),\n",
        "       array([-19.,  -4.,   9., ..., -33., -43., -56.]),\n",
        "       array([-43., -34., -19., ...,  23.,  12.,   4.]),\n",
        "       array([-62., -52., -35., ..., -25., -21., -12.]),\n",
        "       array([  0.,   3.,   6., ..., -25., -21., -12.])], dtype=object)"
       ]
      }
     ],
     "prompt_number": 27
    },
    {
     "cell_type": "code",
     "collapsed": false,
     "input": [
      "w"
     ],
     "language": "python",
     "metadata": {},
     "outputs": [
      {
       "metadata": {},
       "output_type": "pyout",
       "prompt_number": 28,
       "text": [
        "array([  0.00000000e+00,   1.66666667e-02,   1.66666667e-02, ...,\n",
        "         1.99983333e+02,   1.99983333e+02,   2.00000000e+02])"
       ]
      }
     ],
     "prompt_number": 28
    },
    {
     "cell_type": "code",
     "collapsed": false,
     "input": [
      "len(w)"
     ],
     "language": "python",
     "metadata": {},
     "outputs": [
      {
       "metadata": {},
       "output_type": "pyout",
       "prompt_number": 29,
       "text": [
        "24000"
       ]
      }
     ],
     "prompt_number": 29
    },
    {
     "cell_type": "code",
     "collapsed": false,
     "input": [
      "def plot_all(data):\n",
      "    num_rows = len(data)\n",
      "    for i, row in enumerate(data):\n",
      "        plt.subplot(num_rows, 1, i+1)\n",
      "        plt.plot(range(len(row)), row, 'g')"
     ],
     "language": "python",
     "metadata": {},
     "outputs": [],
     "prompt_number": 30
    },
    {
     "cell_type": "code",
     "collapsed": false,
     "input": [
      "plot_all(data.values)"
     ],
     "language": "python",
     "metadata": {},
     "outputs": [],
     "prompt_number": 31
    },
    {
     "cell_type": "code",
     "collapsed": false,
     "input": [
      "data.values"
     ],
     "language": "python",
     "metadata": {},
     "outputs": [
      {
       "metadata": {},
       "output_type": "pyout",
       "prompt_number": 35,
       "text": [
        "array([[  0.,  13.,  15., ..., -25., -21., -12.],\n",
        "       [-26.,  -4.,  11., ..., -39., -32., -21.],\n",
        "       [-42., -35., -19., ..., -16., -16., -18.],\n",
        "       ..., \n",
        "       [ 45.,  30.,  25., ...,  43.,  28.,  17.],\n",
        "       [ 15.,   8.,  -6., ...,  14.,  13.,   6.],\n",
        "       [-18., -20., -19., ...,   9.,   9.,   3.]])"
       ]
      }
     ],
     "prompt_number": 35
    },
    {
     "cell_type": "code",
     "collapsed": false,
     "input": [
      "data.index"
     ],
     "language": "python",
     "metadata": {},
     "outputs": [
      {
       "metadata": {},
       "output_type": "pyout",
       "prompt_number": 37,
       "text": [
        "Index(['NVC1202_32_002_Ecog_c001', 'NVC1202_32_002_Ecog_c002', 'NVC1202_32_002_Ecog_c003', 'NVC1202_32_002_Ecog_c004', 'NVC1202_32_002_Ecog_c005', 'NVC1202_32_002_Ecog_c006', 'NVC1202_32_002_Ecog_c007', 'NVC1202_32_002_Ecog_c008', 'NVC1202_32_002_Ecog_c009', 'NVC1202_32_002_Ecog_c010', 'NVC1202_32_002_Ecog_c011', 'NVC1202_32_002_Ecog_c012', 'NVC1202_32_002_Ecog_c013', 'NVC1202_32_002_Ecog_c014', 'NVC1202_32_002_Ecog_c015', 'NVC1202_32_002_Ecog_c016'], dtype='object')"
       ]
      }
     ],
     "prompt_number": 37
    },
    {
     "cell_type": "code",
     "collapsed": false,
     "input": [
      "data"
     ],
     "language": "python",
     "metadata": {},
     "outputs": []
    }
   ],
   "metadata": {}
  }
 ]
}