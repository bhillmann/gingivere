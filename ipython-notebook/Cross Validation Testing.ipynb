{
 "metadata": {
  "name": "",
  "signature": "sha256:bcb8077805733186e39859105d9cedc5c2dbf09a84e0616e409bfced4c5b9f60"
 },
 "nbformat": 3,
 "nbformat_minor": 0,
 "worksheets": [
  {
   "cells": [
    {
     "cell_type": "code",
     "collapsed": false,
     "input": [
      "from gingivere.workers import do_transformation_pipeline\n",
      "from gingivere.transformers import source, preprocess, window, quantize\n",
      "from gingivere.tasks import build_data_for_cv, train_classifier"
     ],
     "language": "python",
     "metadata": {},
     "outputs": [],
     "prompt_number": 1
    },
    {
     "cell_type": "code",
     "collapsed": false,
     "input": [
      "target = \"Dog_1\""
     ],
     "language": "python",
     "metadata": {},
     "outputs": [],
     "prompt_number": 2
    },
    {
     "cell_type": "code",
     "collapsed": false,
     "input": [
      "transformations = [\n",
      "    (source, {}),\n",
      "    (preprocess, {}),\n",
      "    (window, {}),\n",
      "    (quantize, {})\n",
      "]"
     ],
     "language": "python",
     "metadata": {},
     "outputs": [],
     "prompt_number": 4
    },
    {
     "cell_type": "code",
     "collapsed": false,
     "input": [
      "d = do_transformation_pipeline(target, transformations)\n",
      "d = build_data_for_cv(d)\n",
      "train_classifier(d)"
     ],
     "language": "python",
     "metadata": {},
     "outputs": [
      {
       "output_type": "stream",
       "stream": "stdout",
       "text": [
        "Detailed classification report:\n",
        "\n",
        "The model is trained on the full development set.\n",
        "The scores are computed on the full evaluation set.\n",
        "\n",
        "             precision    recall  f1-score   support\n",
        "\n",
        "        0.0       0.95      1.00      0.98     38400\n",
        "        1.0       0.00      0.00      0.00      1920\n",
        "\n",
        "avg / total       0.91      0.95      0.93     40320\n",
        "\n",
        "\n",
        "0.512101738824\n",
        "\n",
        "Detailed classification report:\n",
        "\n",
        "The model is trained on the full development set.\n",
        "The scores are computed on the full evaluation set.\n",
        "\n",
        "             precision    recall  f1-score   support\n",
        "\n",
        "        0.0       0.95      1.00      0.98     38400\n",
        "        1.0       0.00      0.00      0.00      1920\n",
        "\n",
        "avg / total       0.91      0.95      0.93     40320\n"
       ]
      },
      {
       "output_type": "stream",
       "stream": "stdout",
       "text": [
        "\n",
        "\n",
        "0.601660488553\n",
        "\n"
       ]
      },
      {
       "output_type": "stream",
       "stream": "stderr",
       "text": [
        "C:\\Users\\Benjamin\\Anaconda3\\lib\\site-packages\\sklearn\\metrics\\metrics.py:1771: UndefinedMetricWarning: Precision and F-score are ill-defined and being set to 0.0 in labels with no predicted samples.\n",
        "  'precision', 'predicted', average, warn_for)\n"
       ]
      },
      {
       "metadata": {},
       "output_type": "pyout",
       "prompt_number": 5,
       "text": [
        "Pipeline(steps=[('standardscaler', StandardScaler(copy=True, with_mean=True, with_std=True)), ('simplelogisticregression', SimpleLogisticRegression(copy_X=True, fit_intercept=True, normalize=False))])"
       ]
      }
     ],
     "prompt_number": 5
    },
    {
     "cell_type": "code",
     "collapsed": false,
     "input": [],
     "language": "python",
     "metadata": {},
     "outputs": []
    }
   ],
   "metadata": {}
  }
 ]
}