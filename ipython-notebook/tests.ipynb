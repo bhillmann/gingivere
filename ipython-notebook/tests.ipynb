{
 "metadata": {
  "name": "",
  "signature": "sha256:bda7c4b8247633f8f281bfa9cbee9e2101a4db2357f478436d08826a67679c1d"
 },
 "nbformat": 3,
 "nbformat_minor": 0,
 "worksheets": [
  {
   "cells": [
    {
     "cell_type": "code",
     "collapsed": false,
     "input": [
      "from gingivere.settings import load_settings\n",
      "\n",
      "settings = load_settings(path=\"../SETTINGS.json\")\n",
      "\n",
      "targets = [\n",
      "    'Dog_1',\n",
      "    'Dog_2',\n",
      "    'Dog_3',\n",
      "    'Dog_4',\n",
      "    'Dog_5',\n",
      "    'Patient_1',\n",
      "    'Patient_2'\n",
      "]"
     ],
     "language": "python",
     "metadata": {},
     "outputs": [],
     "prompt_number": 7
    },
    {
     "cell_type": "heading",
     "level": 2,
     "metadata": {},
     "source": [
      "Test Shelve Utility"
     ]
    },
    {
     "cell_type": "code",
     "collapsed": false,
     "input": [
      "%%timeit\n",
      "from gingivere.utilities import Shelve\n",
      "\n",
      "shelve = Shelve(settings)\n",
      "shelve.insert(targets, 'targets')\n",
      "ts = shelve.load('targets')\n",
      "assert targets, ts"
     ],
     "language": "python",
     "metadata": {},
     "outputs": [
      {
       "ename": "SyntaxError",
       "evalue": "invalid syntax (<unknown>, line 6)",
       "output_type": "pyerr",
       "traceback": [
        "\u001b[1;36m  File \u001b[1;32m\"<unknown>\"\u001b[1;36m, line \u001b[1;32m6\u001b[0m\n\u001b[1;33m    print(assert targets, ts)\u001b[0m\n\u001b[1;37m               ^\u001b[0m\n\u001b[1;31mSyntaxError\u001b[0m\u001b[1;31m:\u001b[0m invalid syntax\n"
       ]
      }
     ],
     "prompt_number": 11
    },
    {
     "cell_type": "code",
     "collapsed": false,
     "input": [],
     "language": "python",
     "metadata": {},
     "outputs": []
    }
   ],
   "metadata": {}
  }
 ]
}