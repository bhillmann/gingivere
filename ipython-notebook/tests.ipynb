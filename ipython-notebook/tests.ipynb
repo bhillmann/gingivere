{
 "metadata": {
  "name": "",
  "signature": "sha256:2c36c84b90d444fa817d6f430691586ea3069769aaa349f8782c6fdfa48ef37c"
 },
 "nbformat": 3,
 "nbformat_minor": 0,
 "worksheets": [
  {
   "cells": [
    {
     "cell_type": "code",
     "collapsed": false,
     "input": [
      "from gingivere.settings import load_settings\n",
      "\n",
      "settings = load_settings(path=\"../SETTINGS.json\")\n",
      "\n",
      "targets = [\n",
      "    'Dog_1',\n",
      "    'Dog_2',\n",
      "    'Dog_3',\n",
      "    'Dog_4',\n",
      "    'Dog_5',\n",
      "    'Patient_1',\n",
      "    'Patient_2'\n",
      "]"
     ],
     "language": "python",
     "metadata": {},
     "outputs": [],
     "prompt_number": 2
    },
    {
     "cell_type": "heading",
     "level": 2,
     "metadata": {},
     "source": [
      "Test Shelve Utility"
     ]
    },
    {
     "cell_type": "code",
     "collapsed": false,
     "input": [
      "%%timeit\n",
      "from gingivere.utilities import Shelve\n",
      "\n",
      "shelve = Shelve()\n",
      "shelve.insert(targets, 'targets')\n",
      "ts = shelve.load('targets')\n",
      "assert targets, ts"
     ],
     "language": "python",
     "metadata": {},
     "outputs": [
      {
       "output_type": "stream",
       "stream": "stdout",
       "text": [
        "100 loops, best of 3: 2.06 ms per loop\n"
       ]
      }
     ],
     "prompt_number": 3
    },
    {
     "cell_type": "heading",
     "level": 2,
     "metadata": {},
     "source": [
      "Test Settings"
     ]
    },
    {
     "cell_type": "code",
     "collapsed": false,
     "input": [
      "from gingivere import SETTINGS\n",
      "\n",
      "SETTINGS.data_dir"
     ],
     "language": "python",
     "metadata": {},
     "outputs": [
      {
       "metadata": {},
       "output_type": "pyout",
       "prompt_number": 4,
       "text": [
        "'D:/gingivere'"
       ]
      }
     ],
     "prompt_number": 4
    },
    {
     "cell_type": "heading",
     "level": 2,
     "metadata": {},
     "source": [
      "Test Load Mats"
     ]
    },
    {
     "cell_type": "code",
     "collapsed": false,
     "input": [
      "import gingivere.data as data\n",
      "\n",
      "for data in data.generate_mats(\"Dog_2\"):\n",
      "    print(data['data'])\n",
      "    break"
     ],
     "language": "python",
     "metadata": {},
     "outputs": [
      {
       "output_type": "stream",
       "stream": "stdout",
       "text": [
        "                          0       1       2       3       4       5       \\\n",
        "NVC0905_22_002_Ecog_c001     -38     -45     -46     -36     -22     -14   \n",
        "NVC0905_22_002_Ecog_c002     -13      -5     -11     -21     -23     -16   \n",
        "NVC0905_22_002_Ecog_c003       9      -2      -3      -5      -3       3   \n",
        "NVC0905_22_002_Ecog_c004     -15     -12     -14     -16     -20     -30   \n",
        "NVC0905_22_002_Ecog_c005       7       2       2       7      13      19   \n",
        "NVC0905_22_002_Ecog_c006       6      -1       2       9      16      18   \n",
        "NVC0905_22_002_Ecog_c007      24      17      16      16       8       0   \n",
        "NVC0905_22_002_Ecog_c008       5       1       6       2      -7     -16   \n",
        "NVC0905_22_002_Ecog_c009     -32     -36     -49     -47     -39     -34   \n",
        "NVC0905_22_002_Ecog_c010       5       1       4      15      21      23   \n",
        "NVC0905_22_002_Ecog_c011      26      26      33      30      32      40   \n",
        "NVC0905_22_002_Ecog_c012       1       9       1     -13     -10      -2   \n",
        "NVC0905_22_002_Ecog_c013      -3      16      17       4     -12     -13   \n",
        "NVC0905_22_002_Ecog_c014       0      21      31      28      18      11   \n",
        "NVC0905_22_002_Ecog_c015      -8     -14     -12       1       9       7   \n",
        "NVC0905_22_002_Ecog_c016      25      21      17      20      17       2   \n",
        "\n",
        "                          6       7       8       9        ...    239756  \\\n",
        "NVC0905_22_002_Ecog_c001      -3       2       0       6   ...        -8   \n",
        "NVC0905_22_002_Ecog_c002      -6      -1      -6     -15   ...        -2   \n",
        "NVC0905_22_002_Ecog_c003      22      35      36      34   ...        -8   \n",
        "NVC0905_22_002_Ecog_c004     -36     -44     -46     -33   ...       -20   \n",
        "NVC0905_22_002_Ecog_c005      17      18      20      22   ...         2   \n",
        "NVC0905_22_002_Ecog_c006      14      12      16      12   ...        11   \n",
        "NVC0905_22_002_Ecog_c007      -9      -7       4       3   ...         2   \n",
        "NVC0905_22_002_Ecog_c008     -16      -9      -7      -2   ...         9   \n",
        "NVC0905_22_002_Ecog_c009     -36     -31     -37     -41   ...        -5   \n",
        "NVC0905_22_002_Ecog_c010      20      26      17      11   ...        11   \n",
        "NVC0905_22_002_Ecog_c011      43      38      40      50   ...       -13   \n",
        "NVC0905_22_002_Ecog_c012       2      -1       0     -13   ...       -12   \n",
        "NVC0905_22_002_Ecog_c013     -17     -19     -23     -24   ...       -16   \n",
        "NVC0905_22_002_Ecog_c014       6       1      -1       4   ...         6   \n",
        "NVC0905_22_002_Ecog_c015       1      -2       9      16   ...        24   \n",
        "NVC0905_22_002_Ecog_c016      -5     -19     -25     -27   ...        15   \n",
        "\n",
        "                          239757  239758  239759  239760  239761  239762  \\\n",
        "NVC0905_22_002_Ecog_c001     -12     -20     -20     -12      -2       2   \n",
        "NVC0905_22_002_Ecog_c002       8      -2     -10      -4      -3      -5   \n",
        "NVC0905_22_002_Ecog_c003     -15     -30     -34     -20     -16     -19   \n",
        "NVC0905_22_002_Ecog_c004     -28     -43     -51     -51     -39     -27   \n",
        "NVC0905_22_002_Ecog_c005      -5     -14     -16     -10     -19     -23   \n",
        "NVC0905_22_002_Ecog_c006       4      -5     -12      -9     -11      -9   \n",
        "NVC0905_22_002_Ecog_c007      -5       0      -1      -7      -8       8   \n",
        "NVC0905_22_002_Ecog_c008       2      -5      -3      -7     -10      -3   \n",
        "NVC0905_22_002_Ecog_c009      -9      -7      -9     -14     -17     -17   \n",
        "NVC0905_22_002_Ecog_c010      14      24      28      22      17       0   \n",
        "NVC0905_22_002_Ecog_c011       4      29      37      18       9      13   \n",
        "NVC0905_22_002_Ecog_c012       2      18       8       6      13      14   \n",
        "NVC0905_22_002_Ecog_c013      -3       8      10      18      27      19   \n",
        "NVC0905_22_002_Ecog_c014      15      20      22      28      33      23   \n",
        "NVC0905_22_002_Ecog_c015      23      26      23      19      12      14   \n",
        "NVC0905_22_002_Ecog_c016       6       9      21      17      12      10   \n",
        "\n",
        "                          239763  239764  239765  \n",
        "NVC0905_22_002_Ecog_c001      14      13      -2  \n",
        "NVC0905_22_002_Ecog_c002      -2       4       8  \n",
        "NVC0905_22_002_Ecog_c003     -35     -35     -33  \n",
        "NVC0905_22_002_Ecog_c004     -17     -14     -19  \n",
        "NVC0905_22_002_Ecog_c005     -27     -27     -20  \n",
        "NVC0905_22_002_Ecog_c006     -10     -11      -8  \n",
        "NVC0905_22_002_Ecog_c007      11       4      12  \n",
        "NVC0905_22_002_Ecog_c008       2       0       3  \n",
        "NVC0905_22_002_Ecog_c009     -19     -23     -26  \n",
        "NVC0905_22_002_Ecog_c010      -6       4       5  \n",
        "NVC0905_22_002_Ecog_c011      14      10      12  \n",
        "NVC0905_22_002_Ecog_c012       8      13      12  \n",
        "NVC0905_22_002_Ecog_c013      22      23      13  \n",
        "NVC0905_22_002_Ecog_c014      17      24      31  \n",
        "NVC0905_22_002_Ecog_c015       9      -5      -5  \n",
        "NVC0905_22_002_Ecog_c016      18      20      18  \n",
        "\n",
        "[16 rows x 239766 columns]\n"
       ]
      }
     ],
     "prompt_number": 5
    },
    {
     "cell_type": "code",
     "collapsed": false,
     "input": [],
     "language": "python",
     "metadata": {},
     "outputs": []
    }
   ],
   "metadata": {}
  }
 ]
}