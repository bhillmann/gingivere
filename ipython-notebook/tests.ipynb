{
 "metadata": {
  "name": "",
  "signature": "sha256:c03611336b6208986e83440e414dc72816c2d03b591691fb49acabc24acf44ab"
 },
 "nbformat": 3,
 "nbformat_minor": 0,
 "worksheets": [
  {
   "cells": [
    {
     "cell_type": "code",
     "collapsed": false,
     "input": [
      "from gingivere.settings import load_settings\n",
      "\n",
      "settings = load_settings(path=\"../SETTINGS.json\")\n",
      "\n",
      "targets = [\n",
      "    'Dog_1',\n",
      "    'Dog_2',\n",
      "    'Dog_3',\n",
      "    'Dog_4',\n",
      "    'Dog_5',\n",
      "    'Patient_1',\n",
      "    'Patient_2'\n",
      "]"
     ],
     "language": "python",
     "metadata": {},
     "outputs": [],
     "prompt_number": 1
    },
    {
     "cell_type": "heading",
     "level": 2,
     "metadata": {},
     "source": [
      "Test Shelve Utility"
     ]
    },
    {
     "cell_type": "code",
     "collapsed": false,
     "input": [
      "%%timeit\n",
      "from gingivere.utilities import Shelve\n",
      "\n",
      "shelve = Shelve()\n",
      "shelve.insert(targets, 'targets')\n",
      "ts = shelve.load('targets')\n",
      "assert targets, ts"
     ],
     "language": "python",
     "metadata": {},
     "outputs": [
      {
       "output_type": "stream",
       "stream": "stdout",
       "text": [
        "100 loops, best of 3: 2.03 ms per loop\n"
       ]
      }
     ],
     "prompt_number": 2
    },
    {
     "cell_type": "heading",
     "level": 2,
     "metadata": {},
     "source": [
      "Test Settings"
     ]
    },
    {
     "cell_type": "code",
     "collapsed": false,
     "input": [
      "from gingivere import SETTINGS\n",
      "\n",
      "SETTINGS.data_dir"
     ],
     "language": "python",
     "metadata": {},
     "outputs": [
      {
       "metadata": {},
       "output_type": "pyout",
       "prompt_number": 3,
       "text": [
        "'D:/gingivere'"
       ]
      }
     ],
     "prompt_number": 3
    },
    {
     "cell_type": "heading",
     "level": 2,
     "metadata": {},
     "source": [
      "Test Load Mats"
     ]
    },
    {
     "cell_type": "code",
     "collapsed": false,
     "input": [
      "import gingivere.data\n",
      "\n",
      "g = gingivere.data.generate_mats(\"Dog_2\")\n",
      "next(g)"
     ],
     "language": "python",
     "metadata": {},
     "outputs": [
      {
       "output_type": "stream",
       "stream": "stdout",
       "text": [
        "('D:/gingivere/Dog_2', 'Dog_2_interictal_segment_0001.mat')\n"
       ]
      },
      {
       "metadata": {},
       "output_type": "pyout",
       "prompt_number": 8,
       "text": [
        "{'data_length_sec': 600,\n",
        " 'sampling_frequency': 399.60975609756099,\n",
        " 'data':                           0       1       2       3       4       5       \\\n",
        " NVC0905_22_002_Ecog_c001     -38     -45     -46     -36     -22     -14   \n",
        " NVC0905_22_002_Ecog_c002     -13      -5     -11     -21     -23     -16   \n",
        " NVC0905_22_002_Ecog_c003       9      -2      -3      -5      -3       3   \n",
        " NVC0905_22_002_Ecog_c004     -15     -12     -14     -16     -20     -30   \n",
        " NVC0905_22_002_Ecog_c005       7       2       2       7      13      19   \n",
        " NVC0905_22_002_Ecog_c006       6      -1       2       9      16      18   \n",
        " NVC0905_22_002_Ecog_c007      24      17      16      16       8       0   \n",
        " NVC0905_22_002_Ecog_c008       5       1       6       2      -7     -16   \n",
        " NVC0905_22_002_Ecog_c009     -32     -36     -49     -47     -39     -34   \n",
        " NVC0905_22_002_Ecog_c010       5       1       4      15      21      23   \n",
        " NVC0905_22_002_Ecog_c011      26      26      33      30      32      40   \n",
        " NVC0905_22_002_Ecog_c012       1       9       1     -13     -10      -2   \n",
        " NVC0905_22_002_Ecog_c013      -3      16      17       4     -12     -13   \n",
        " NVC0905_22_002_Ecog_c014       0      21      31      28      18      11   \n",
        " NVC0905_22_002_Ecog_c015      -8     -14     -12       1       9       7   \n",
        " NVC0905_22_002_Ecog_c016      25      21      17      20      17       2   \n",
        " \n",
        "                           6       7       8       9        ...    239756  \\\n",
        " NVC0905_22_002_Ecog_c001      -3       2       0       6   ...        -8   \n",
        " NVC0905_22_002_Ecog_c002      -6      -1      -6     -15   ...        -2   \n",
        " NVC0905_22_002_Ecog_c003      22      35      36      34   ...        -8   \n",
        " NVC0905_22_002_Ecog_c004     -36     -44     -46     -33   ...       -20   \n",
        " NVC0905_22_002_Ecog_c005      17      18      20      22   ...         2   \n",
        " NVC0905_22_002_Ecog_c006      14      12      16      12   ...        11   \n",
        " NVC0905_22_002_Ecog_c007      -9      -7       4       3   ...         2   \n",
        " NVC0905_22_002_Ecog_c008     -16      -9      -7      -2   ...         9   \n",
        " NVC0905_22_002_Ecog_c009     -36     -31     -37     -41   ...        -5   \n",
        " NVC0905_22_002_Ecog_c010      20      26      17      11   ...        11   \n",
        " NVC0905_22_002_Ecog_c011      43      38      40      50   ...       -13   \n",
        " NVC0905_22_002_Ecog_c012       2      -1       0     -13   ...       -12   \n",
        " NVC0905_22_002_Ecog_c013     -17     -19     -23     -24   ...       -16   \n",
        " NVC0905_22_002_Ecog_c014       6       1      -1       4   ...         6   \n",
        " NVC0905_22_002_Ecog_c015       1      -2       9      16   ...        24   \n",
        " NVC0905_22_002_Ecog_c016      -5     -19     -25     -27   ...        15   \n",
        " \n",
        "                           239757  239758  239759  239760  239761  239762  \\\n",
        " NVC0905_22_002_Ecog_c001     -12     -20     -20     -12      -2       2   \n",
        " NVC0905_22_002_Ecog_c002       8      -2     -10      -4      -3      -5   \n",
        " NVC0905_22_002_Ecog_c003     -15     -30     -34     -20     -16     -19   \n",
        " NVC0905_22_002_Ecog_c004     -28     -43     -51     -51     -39     -27   \n",
        " NVC0905_22_002_Ecog_c005      -5     -14     -16     -10     -19     -23   \n",
        " NVC0905_22_002_Ecog_c006       4      -5     -12      -9     -11      -9   \n",
        " NVC0905_22_002_Ecog_c007      -5       0      -1      -7      -8       8   \n",
        " NVC0905_22_002_Ecog_c008       2      -5      -3      -7     -10      -3   \n",
        " NVC0905_22_002_Ecog_c009      -9      -7      -9     -14     -17     -17   \n",
        " NVC0905_22_002_Ecog_c010      14      24      28      22      17       0   \n",
        " NVC0905_22_002_Ecog_c011       4      29      37      18       9      13   \n",
        " NVC0905_22_002_Ecog_c012       2      18       8       6      13      14   \n",
        " NVC0905_22_002_Ecog_c013      -3       8      10      18      27      19   \n",
        " NVC0905_22_002_Ecog_c014      15      20      22      28      33      23   \n",
        " NVC0905_22_002_Ecog_c015      23      26      23      19      12      14   \n",
        " NVC0905_22_002_Ecog_c016       6       9      21      17      12      10   \n",
        " \n",
        "                           239763  239764  239765  \n",
        " NVC0905_22_002_Ecog_c001      14      13      -2  \n",
        " NVC0905_22_002_Ecog_c002      -2       4       8  \n",
        " NVC0905_22_002_Ecog_c003     -35     -35     -33  \n",
        " NVC0905_22_002_Ecog_c004     -17     -14     -19  \n",
        " NVC0905_22_002_Ecog_c005     -27     -27     -20  \n",
        " NVC0905_22_002_Ecog_c006     -10     -11      -8  \n",
        " NVC0905_22_002_Ecog_c007      11       4      12  \n",
        " NVC0905_22_002_Ecog_c008       2       0       3  \n",
        " NVC0905_22_002_Ecog_c009     -19     -23     -26  \n",
        " NVC0905_22_002_Ecog_c010      -6       4       5  \n",
        " NVC0905_22_002_Ecog_c011      14      10      12  \n",
        " NVC0905_22_002_Ecog_c012       8      13      12  \n",
        " NVC0905_22_002_Ecog_c013      22      23      13  \n",
        " NVC0905_22_002_Ecog_c014      17      24      31  \n",
        " NVC0905_22_002_Ecog_c015       9      -5      -5  \n",
        " NVC0905_22_002_Ecog_c016      18      20      18  \n",
        " \n",
        " [16 rows x 239766 columns],\n",
        " 'sequence': 1}"
       ]
      }
     ],
     "prompt_number": 8
    },
    {
     "cell_type": "heading",
     "level": 3,
     "metadata": {},
     "source": [
      "Source Data"
     ]
    },
    {
     "cell_type": "code",
     "collapsed": false,
     "input": [
      "from gingivere.transformers import source, source_mem\n",
      "from gingivere.data import generate_mat_paths\n",
      "\n",
      "g = generate_mat_paths(\"Dog_1\")\n",
      "path = next(g)"
     ],
     "language": "python",
     "metadata": {},
     "outputs": [
      {
       "ename": "SyntaxError",
       "evalue": "invalid syntax (transformers.py, line 16)",
       "output_type": "pyerr",
       "traceback": [
        "\u001b[1;36m  File \u001b[1;32m\"c:\\users\\benjamin\\projects\\gingivere\\gingivere\\transformers.py\"\u001b[1;36m, line \u001b[1;32m16\u001b[0m\n\u001b[1;33m    def windower(size=):\u001b[0m\n\u001b[1;37m                      ^\u001b[0m\n\u001b[1;31mSyntaxError\u001b[0m\u001b[1;31m:\u001b[0m invalid syntax\n"
       ]
      }
     ],
     "prompt_number": 1
    },
    {
     "cell_type": "code",
     "collapsed": false,
     "input": [
      "%%timeit\n",
      "source(path)"
     ],
     "language": "python",
     "metadata": {},
     "outputs": [
      {
       "output_type": "stream",
       "stream": "stdout",
       "text": [
        "100 loops, best of 3: 1.66 ms per loop\n"
       ]
      }
     ],
     "prompt_number": 2
    },
    {
     "cell_type": "code",
     "collapsed": false,
     "input": [
      "%%timeit\n",
      "source_mem(path)"
     ],
     "language": "python",
     "metadata": {},
     "outputs": [
      {
       "output_type": "stream",
       "stream": "stdout",
       "text": [
        "100 loops, best of 3: 6.47 ms per loop\n"
       ]
      }
     ],
     "prompt_number": 3
    },
    {
     "cell_type": "code",
     "collapsed": false,
     "input": [
      "def f1():\n",
      "    print(1)\n",
      "\n",
      "# let's create an execution utility function\n",
      "do_it = lambda f: f()\n",
      "\n",
      "# let f1, f2, f3 (etc) be functions that perform actions\n",
      "\n",
      "xx = map(do_it, [f1,f1,f1])   # map()-based action sequence"
     ],
     "language": "python",
     "metadata": {},
     "outputs": [],
     "prompt_number": 20
    },
    {
     "cell_type": "code",
     "collapsed": false,
     "input": [
      "xx"
     ],
     "language": "python",
     "metadata": {},
     "outputs": [
      {
       "metadata": {},
       "output_type": "pyout",
       "prompt_number": 16,
       "text": [
        "<map at 0x9dbb550>"
       ]
      }
     ],
     "prompt_number": 16
    },
    {
     "cell_type": "code",
     "collapsed": false,
     "input": [
      "f = lambda x: x+1"
     ],
     "language": "python",
     "metadata": {},
     "outputs": [],
     "prompt_number": 10
    },
    {
     "cell_type": "code",
     "collapsed": false,
     "input": [
      "identity = lambda x: x"
     ],
     "language": "python",
     "metadata": {},
     "outputs": [],
     "prompt_number": 11
    },
    {
     "cell_type": "code",
     "collapsed": false,
     "input": [
      "do_it = lambda f: f(x)"
     ],
     "language": "python",
     "metadata": {},
     "outputs": [],
     "prompt_number": 12
    },
    {
     "cell_type": "code",
     "collapsed": false,
     "input": [
      "pipeline = [f, f, identity]"
     ],
     "language": "python",
     "metadata": {},
     "outputs": [],
     "prompt_number": 13
    },
    {
     "cell_type": "code",
     "collapsed": false,
     "input": [
      "def run_transformation_pipeline(X, funcs):\n",
      "    for func in functs:\n",
      "        X = functs(X)\n",
      "    return X"
     ],
     "language": "python",
     "metadata": {},
     "outputs": [],
     "prompt_number": 14
    },
    {
     "cell_type": "code",
     "collapsed": false,
     "input": [
      "def xx(f=5):\n",
      "    return f, 6"
     ],
     "language": "python",
     "metadata": {},
     "outputs": [],
     "prompt_number": 5
    },
    {
     "cell_type": "code",
     "collapsed": false,
     "input": [
      "xx"
     ],
     "language": "python",
     "metadata": {},
     "outputs": [
      {
       "metadata": {},
       "output_type": "pyout",
       "prompt_number": 6,
       "text": [
        "<function __main__.xx>"
       ]
      }
     ],
     "prompt_number": 6
    },
    {
     "cell_type": "code",
     "collapsed": false,
     "input": [
      "keys={}"
     ],
     "language": "python",
     "metadata": {},
     "outputs": [],
     "prompt_number": 19
    },
    {
     "cell_type": "code",
     "collapsed": false,
     "input": [
      "xx(**keys)"
     ],
     "language": "python",
     "metadata": {},
     "outputs": [
      {
       "metadata": {},
       "output_type": "pyout",
       "prompt_number": 20,
       "text": [
        "(5, 6)"
       ]
      }
     ],
     "prompt_number": 20
    },
    {
     "cell_type": "code",
     "collapsed": false,
     "input": [],
     "language": "python",
     "metadata": {},
     "outputs": []
    }
   ],
   "metadata": {}
  }
 ]
}