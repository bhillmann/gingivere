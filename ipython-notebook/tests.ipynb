{
 "metadata": {
  "name": "",
  "signature": "sha256:e47bfb0ec7dd96ca3d1833a9b334d4eef6e5d126372b03cc1216c53c17e94192"
 },
 "nbformat": 3,
 "nbformat_minor": 0,
 "worksheets": [
  {
   "cells": [
    {
     "cell_type": "code",
     "collapsed": false,
     "input": [
      "from gingivere.settings import load_settings\n",
      "\n",
      "settings = load_settings(path=\"../SETTINGS.json\")\n",
      "\n",
      "targets = [\n",
      "    'Dog_1',\n",
      "    'Dog_2',\n",
      "    'Dog_3',\n",
      "    'Dog_4',\n",
      "    'Dog_5',\n",
      "    'Patient_1',\n",
      "    'Patient_2'\n",
      "]"
     ],
     "language": "python",
     "metadata": {},
     "outputs": [],
     "prompt_number": 2
    },
    {
     "cell_type": "heading",
     "level": 2,
     "metadata": {},
     "source": [
      "Test Shelve Utility"
     ]
    },
    {
     "cell_type": "code",
     "collapsed": false,
     "input": [
      "%%timeit\n",
      "from gingivere.utilities import Shelve\n",
      "\n",
      "shelve = Shelve()\n",
      "shelve.insert(targets, 'targets')\n",
      "ts = shelve.load('targets')\n",
      "assert targets, ts"
     ],
     "language": "python",
     "metadata": {},
     "outputs": [
      {
       "output_type": "stream",
       "stream": "stdout",
       "text": [
        "100 loops, best of 3: 2.06 ms per loop\n"
       ]
      }
     ],
     "prompt_number": 3
    },
    {
     "cell_type": "heading",
     "level": 2,
     "metadata": {},
     "source": [
      "Test Settings"
     ]
    },
    {
     "cell_type": "code",
     "collapsed": false,
     "input": [
      "from gingivere import SETTINGS\n",
      "\n",
      "SETTINGS.data_dir"
     ],
     "language": "python",
     "metadata": {},
     "outputs": [
      {
       "metadata": {},
       "output_type": "pyout",
       "prompt_number": 4,
       "text": [
        "'D:/gingivere'"
       ]
      }
     ],
     "prompt_number": 4
    },
    {
     "cell_type": "heading",
     "level": 2,
     "metadata": {},
     "source": [
      "Test Load Mats"
     ]
    },
    {
     "cell_type": "code",
     "collapsed": false,
     "input": [],
     "language": "python",
     "metadata": {},
     "outputs": []
    }
   ],
   "metadata": {}
  }
 ]
}