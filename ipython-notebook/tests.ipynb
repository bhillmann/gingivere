{
 "metadata": {
  "name": "",
  "signature": "sha256:37cb81ef075823295ebf157ddb7194d0ea8b1aabcf4e7238f045af6d3dbabcb2"
 },
 "nbformat": 3,
 "nbformat_minor": 0,
 "worksheets": [
  {
   "cells": [
    {
     "cell_type": "code",
     "collapsed": false,
     "input": [
      "from gingivere.settings import load_settings\n",
      "\n",
      "settings = load_settings(path=\"../SETTINGS.json\")\n",
      "\n",
      "targets = [\n",
      "    'Dog_1',\n",
      "    'Dog_2',\n",
      "    'Dog_3',\n",
      "    'Dog_4',\n",
      "    'Dog_5',\n",
      "    'Patient_1',\n",
      "    'Patient_2'\n",
      "]"
     ],
     "language": "python",
     "metadata": {},
     "outputs": [],
     "prompt_number": 21
    },
    {
     "cell_type": "heading",
     "level": 2,
     "metadata": {},
     "source": [
      "Test Settings"
     ]
    },
    {
     "cell_type": "code",
     "collapsed": false,
     "input": [
      "from gingivere import SETTINGS\n",
      "\n",
      "SETTINGS.data_dir"
     ],
     "language": "python",
     "metadata": {},
     "outputs": [
      {
       "metadata": {},
       "output_type": "pyout",
       "prompt_number": 22,
       "text": [
        "'D:/gingivere'"
       ]
      }
     ],
     "prompt_number": 22
    },
    {
     "cell_type": "heading",
     "level": 3,
     "metadata": {},
     "source": [
      "Source Data"
     ]
    },
    {
     "cell_type": "code",
     "collapsed": false,
     "input": [
      "from gingivere.transformers import source, source_mem\n",
      "from gingivere.data import generate_mat_paths\n",
      "\n",
      "g = generate_mat_paths(\"Dog_1\")\n",
      "path = next(g)"
     ],
     "language": "python",
     "metadata": {},
     "outputs": [],
     "prompt_number": 23
    },
    {
     "cell_type": "code",
     "collapsed": false,
     "input": [
      "%%timeit\n",
      "source(path)"
     ],
     "language": "python",
     "metadata": {},
     "outputs": [
      {
       "output_type": "stream",
       "stream": "stdout",
       "text": [
        "Loading: D:/gingivere/Dog_1/Dog_1_interictal_segment_0001.mat\n",
        "Loading: D:/gingivere/Dog_1/Dog_1_interictal_segment_0001.mat"
       ]
      },
      {
       "output_type": "stream",
       "stream": "stdout",
       "text": [
        "\n",
        "Loading: D:/gingivere/Dog_1/Dog_1_interictal_segment_0001.mat\n",
        "Loading: D:/gingivere/Dog_1/Dog_1_interictal_segment_0001.mat"
       ]
      },
      {
       "output_type": "stream",
       "stream": "stdout",
       "text": [
        "\n",
        "Loading: D:/gingivere/Dog_1/Dog_1_interictal_segment_0001.mat\n",
        "Loading: D:/gingivere/Dog_1/Dog_1_interictal_segment_0001.mat\n",
        "Loading: D:/gingivere/Dog_1/Dog_1_interictal_segment_0001.mat"
       ]
      },
      {
       "output_type": "stream",
       "stream": "stdout",
       "text": [
        "\n",
        "Loading: D:/gingivere/Dog_1/Dog_1_interictal_segment_0001.mat\n",
        "Loading: D:/gingivere/Dog_1/Dog_1_interictal_segment_0001.mat\n",
        "Loading: D:/gingivere/Dog_1/Dog_1_interictal_segment_0001.mat\n",
        "Loading: D:/gingivere/Dog_1/Dog_1_interictal_segment_0001.mat"
       ]
      },
      {
       "output_type": "stream",
       "stream": "stdout",
       "text": [
        "\n",
        "Loading: D:/gingivere/Dog_1/Dog_1_interictal_segment_0001.mat\n",
        "Loading: D:/gingivere/Dog_1/Dog_1_interictal_segment_0001.mat\n",
        "Loading: D:/gingivere/Dog_1/Dog_1_interictal_segment_0001.mat\n",
        "Loading: D:/gingivere/Dog_1/Dog_1_interictal_segment_0001.mat\n",
        "Loading: D:/gingivere/Dog_1/Dog_1_interictal_segment_0001.mat\n",
        "Loading: D:/gingivere/Dog_1/Dog_1_interictal_segment_0001.mat"
       ]
      },
      {
       "output_type": "stream",
       "stream": "stdout",
       "text": [
        "\n",
        "Loading: D:/gingivere/Dog_1/Dog_1_interictal_segment_0001.mat\n",
        "Loading: D:/gingivere/Dog_1/Dog_1_interictal_segment_0001.mat\n",
        "Loading: D:/gingivere/Dog_1/Dog_1_interictal_segment_0001.mat\n",
        "Loading: D:/gingivere/Dog_1/Dog_1_interictal_segment_0001.mat\n",
        "Loading: D:/gingivere/Dog_1/Dog_1_interictal_segment_0001.mat\n",
        "Loading: D:/gingivere/Dog_1/Dog_1_interictal_segment_0001.mat\n",
        "Loading: D:/gingivere/Dog_1/Dog_1_interictal_segment_0001.mat"
       ]
      },
      {
       "output_type": "stream",
       "stream": "stdout",
       "text": [
        "\n",
        "Loading: D:/gingivere/Dog_1/Dog_1_interictal_segment_0001.mat\n",
        "Loading: D:/gingivere/Dog_1/Dog_1_interictal_segment_0001.mat\n",
        "Loading: D:/gingivere/Dog_1/Dog_1_interictal_segment_0001.mat\n",
        "Loading: D:/gingivere/Dog_1/Dog_1_interictal_segment_0001.mat\n",
        "Loading: D:/gingivere/Dog_1/Dog_1_interictal_segment_0001.mat\n",
        "Loading: D:/gingivere/Dog_1/Dog_1_interictal_segment_0001.mat\n",
        "Loading: D:/gingivere/Dog_1/Dog_1_interictal_segment_0001.mat\n",
        "Loading: D:/gingivere/Dog_1/Dog_1_interictal_segment_0001.mat\n",
        "Loading: D:/gingivere/Dog_1/Dog_1_interictal_segment_0001.mat\n",
        "Loading: D:/gingivere/Dog_1/Dog_1_interictal_segment_0001.mat"
       ]
      },
      {
       "output_type": "stream",
       "stream": "stdout",
       "text": [
        "\n",
        "Loading: D:/gingivere/Dog_1/Dog_1_interictal_segment_0001.mat\n",
        "Loading: D:/gingivere/Dog_1/Dog_1_interictal_segment_0001.mat\n",
        "Loading: D:/gingivere/Dog_1/Dog_1_interictal_segment_0001.mat\n",
        "Loading: D:/gingivere/Dog_1/Dog_1_interictal_segment_0001.mat\n",
        "Loading: D:/gingivere/Dog_1/Dog_1_interictal_segment_0001.mat\n",
        "Loading: D:/gingivere/Dog_1/Dog_1_interictal_segment_0001.mat\n",
        "Loading: D:/gingivere/Dog_1/Dog_1_interictal_segment_0001.mat\n",
        "Loading: D:/gingivere/Dog_1/Dog_1_interictal_segment_0001.mat"
       ]
      },
      {
       "output_type": "stream",
       "stream": "stdout",
       "text": [
        "\n",
        "Loading: D:/gingivere/Dog_1/Dog_1_interictal_segment_0001.mat\n",
        "Loading: D:/gingivere/Dog_1/Dog_1_interictal_segment_0001.mat\n",
        "Loading: D:/gingivere/Dog_1/Dog_1_interictal_segment_0001.mat\n",
        "Loading: D:/gingivere/Dog_1/Dog_1_interictal_segment_0001.mat\n",
        "Loading: D:/gingivere/Dog_1/Dog_1_interictal_segment_0001.mat\n",
        "Loading: D:/gingivere/Dog_1/Dog_1_interictal_segment_0001.mat\n",
        "Loading: D:/gingivere/Dog_1/Dog_1_interictal_segment_0001.mat"
       ]
      },
      {
       "output_type": "stream",
       "stream": "stdout",
       "text": [
        "\n",
        "Loading: D:/gingivere/Dog_1/Dog_1_interictal_segment_0001.mat\n",
        "Loading: D:/gingivere/Dog_1/Dog_1_interictal_segment_0001.mat\n",
        "Loading: D:/gingivere/Dog_1/Dog_1_interictal_segment_0001.mat\n",
        "Loading: D:/gingivere/Dog_1/Dog_1_interictal_segment_0001.mat\n",
        "Loading: D:/gingivere/Dog_1/Dog_1_interictal_segment_0001.mat\n",
        "Loading: D:/gingivere/Dog_1/Dog_1_interictal_segment_0001.mat\n",
        "Loading: D:/gingivere/Dog_1/Dog_1_interictal_segment_0001.mat\n",
        "Loading: D:/gingivere/Dog_1/Dog_1_interictal_segment_0001.mat"
       ]
      },
      {
       "output_type": "stream",
       "stream": "stdout",
       "text": [
        "\n",
        "Loading: D:/gingivere/Dog_1/Dog_1_interictal_segment_0001.mat\n",
        "Loading: D:/gingivere/Dog_1/Dog_1_interictal_segment_0001.mat\n",
        "Loading: D:/gingivere/Dog_1/Dog_1_interictal_segment_0001.mat\n",
        "Loading: D:/gingivere/Dog_1/Dog_1_interictal_segment_0001.mat\n",
        "Loading: D:/gingivere/Dog_1/Dog_1_interictal_segment_0001.mat\n",
        "Loading: D:/gingivere/Dog_1/Dog_1_interictal_segment_0001.mat\n",
        "Loading: D:/gingivere/Dog_1/Dog_1_interictal_segment_0001.mat\n",
        "Loading: D:/gingivere/Dog_1/Dog_1_interictal_segment_0001.mat"
       ]
      },
      {
       "output_type": "stream",
       "stream": "stdout",
       "text": [
        "\n",
        "Loading: D:/gingivere/Dog_1/Dog_1_interictal_segment_0001.mat\n",
        "Loading: D:/gingivere/Dog_1/Dog_1_interictal_segment_0001.mat\n",
        "Loading: D:/gingivere/Dog_1/Dog_1_interictal_segment_0001.mat\n",
        "Loading: D:/gingivere/Dog_1/Dog_1_interictal_segment_0001.mat\n",
        "Loading: D:/gingivere/Dog_1/Dog_1_interictal_segment_0001.mat\n",
        "Loading: D:/gingivere/Dog_1/Dog_1_interictal_segment_0001.mat\n",
        "Loading: D:/gingivere/Dog_1/Dog_1_interictal_segment_0001.mat\n",
        "Loading: D:/gingivere/Dog_1/Dog_1_interictal_segment_0001.mat"
       ]
      },
      {
       "output_type": "stream",
       "stream": "stdout",
       "text": [
        "\n",
        "Loading: D:/gingivere/Dog_1/Dog_1_interictal_segment_0001.mat\n",
        "Loading: D:/gingivere/Dog_1/Dog_1_interictal_segment_0001.mat\n",
        "Loading: D:/gingivere/Dog_1/Dog_1_interictal_segment_0001.mat\n",
        "Loading: D:/gingivere/Dog_1/Dog_1_interictal_segment_0001.mat\n",
        "Loading: D:/gingivere/Dog_1/Dog_1_interictal_segment_0001.mat\n",
        "Loading: D:/gingivere/Dog_1/Dog_1_interictal_segment_0001.mat\n",
        "Loading: D:/gingivere/Dog_1/Dog_1_interictal_segment_0001.mat\n",
        "Loading: D:/gingivere/Dog_1/Dog_1_interictal_segment_0001.mat"
       ]
      },
      {
       "output_type": "stream",
       "stream": "stdout",
       "text": [
        "\n",
        "Loading: D:/gingivere/Dog_1/Dog_1_interictal_segment_0001.mat\n",
        "Loading: D:/gingivere/Dog_1/Dog_1_interictal_segment_0001.mat\n",
        "Loading: D:/gingivere/Dog_1/Dog_1_interictal_segment_0001.mat\n",
        "Loading: D:/gingivere/Dog_1/Dog_1_interictal_segment_0001.mat\n",
        "Loading: D:/gingivere/Dog_1/Dog_1_interictal_segment_0001.mat\n",
        "Loading: D:/gingivere/Dog_1/Dog_1_interictal_segment_0001.mat\n",
        "Loading: D:/gingivere/Dog_1/Dog_1_interictal_segment_0001.mat"
       ]
      },
      {
       "output_type": "stream",
       "stream": "stdout",
       "text": [
        "\n",
        "Loading: D:/gingivere/Dog_1/Dog_1_interictal_segment_0001.mat\n",
        "Loading: D:/gingivere/Dog_1/Dog_1_interictal_segment_0001.mat\n",
        "Loading: D:/gingivere/Dog_1/Dog_1_interictal_segment_0001.mat\n",
        "Loading: D:/gingivere/Dog_1/Dog_1_interictal_segment_0001.mat\n",
        "Loading: D:/gingivere/Dog_1/Dog_1_interictal_segment_0001.mat\n",
        "Loading: D:/gingivere/Dog_1/Dog_1_interictal_segment_0001.mat\n",
        "Loading: D:/gingivere/Dog_1/Dog_1_interictal_segment_0001.mat\n",
        "Loading: D:/gingivere/Dog_1/Dog_1_interictal_segment_0001.mat"
       ]
      },
      {
       "output_type": "stream",
       "stream": "stdout",
       "text": [
        "\n",
        "Loading: D:/gingivere/Dog_1/Dog_1_interictal_segment_0001.mat\n",
        "Loading: D:/gingivere/Dog_1/Dog_1_interictal_segment_0001.mat\n",
        "Loading: D:/gingivere/Dog_1/Dog_1_interictal_segment_0001.mat\n",
        "Loading: D:/gingivere/Dog_1/Dog_1_interictal_segment_0001.mat\n",
        "Loading: D:/gingivere/Dog_1/Dog_1_interictal_segment_0001.mat\n",
        "Loading: D:/gingivere/Dog_1/Dog_1_interictal_segment_0001.mat\n",
        "Loading: D:/gingivere/Dog_1/Dog_1_interictal_segment_0001.mat\n",
        "Loading: D:/gingivere/Dog_1/Dog_1_interictal_segment_0001.mat"
       ]
      },
      {
       "output_type": "stream",
       "stream": "stdout",
       "text": [
        "\n",
        "Loading: D:/gingivere/Dog_1/Dog_1_interictal_segment_0001.mat\n",
        "Loading: D:/gingivere/Dog_1/Dog_1_interictal_segment_0001.mat\n",
        "Loading: D:/gingivere/Dog_1/Dog_1_interictal_segment_0001.mat\n",
        "Loading: D:/gingivere/Dog_1/Dog_1_interictal_segment_0001.mat\n",
        "Loading: D:/gingivere/Dog_1/Dog_1_interictal_segment_0001.mat\n",
        "Loading: D:/gingivere/Dog_1/Dog_1_interictal_segment_0001.mat\n",
        "Loading: D:/gingivere/Dog_1/Dog_1_interictal_segment_0001.mat\n",
        "Loading: D:/gingivere/Dog_1/Dog_1_interictal_segment_0001.mat"
       ]
      },
      {
       "output_type": "stream",
       "stream": "stdout",
       "text": [
        "\n",
        "Loading: D:/gingivere/Dog_1/Dog_1_interictal_segment_0001.mat\n",
        "Loading: D:/gingivere/Dog_1/Dog_1_interictal_segment_0001.mat\n",
        "Loading: D:/gingivere/Dog_1/Dog_1_interictal_segment_0001.mat\n",
        "Loading: D:/gingivere/Dog_1/Dog_1_interictal_segment_0001.mat\n",
        "Loading: D:/gingivere/Dog_1/Dog_1_interictal_segment_0001.mat\n",
        "Loading: D:/gingivere/Dog_1/Dog_1_interictal_segment_0001.mat\n",
        "Loading: D:/gingivere/Dog_1/Dog_1_interictal_segment_0001.mat\n",
        "Loading: D:/gingivere/Dog_1/Dog_1_interictal_segment_0001.mat"
       ]
      },
      {
       "output_type": "stream",
       "stream": "stdout",
       "text": [
        "\n",
        "Loading: D:/gingivere/Dog_1/Dog_1_interictal_segment_0001.mat\n",
        "Loading: D:/gingivere/Dog_1/Dog_1_interictal_segment_0001.mat\n",
        "Loading: D:/gingivere/Dog_1/Dog_1_interictal_segment_0001.mat\n",
        "Loading: D:/gingivere/Dog_1/Dog_1_interictal_segment_0001.mat\n",
        "Loading: D:/gingivere/Dog_1/Dog_1_interictal_segment_0001.mat\n",
        "Loading: D:/gingivere/Dog_1/Dog_1_interictal_segment_0001.mat\n",
        "Loading: D:/gingivere/Dog_1/Dog_1_interictal_segment_0001.mat\n",
        "Loading: D:/gingivere/Dog_1/Dog_1_interictal_segment_0001.mat"
       ]
      },
      {
       "output_type": "stream",
       "stream": "stdout",
       "text": [
        "\n",
        "Loading: D:/gingivere/Dog_1/Dog_1_interictal_segment_0001.mat\n",
        "Loading: D:/gingivere/Dog_1/Dog_1_interictal_segment_0001.mat\n",
        "Loading: D:/gingivere/Dog_1/Dog_1_interictal_segment_0001.mat\n",
        "Loading: D:/gingivere/Dog_1/Dog_1_interictal_segment_0001.mat\n",
        "Loading: D:/gingivere/Dog_1/Dog_1_interictal_segment_0001.mat\n",
        "Loading: D:/gingivere/Dog_1/Dog_1_interictal_segment_0001.mat\n",
        "Loading: D:/gingivere/Dog_1/Dog_1_interictal_segment_0001.mat\n",
        "Loading: D:/gingivere/Dog_1/Dog_1_interictal_segment_0001.mat"
       ]
      },
      {
       "output_type": "stream",
       "stream": "stdout",
       "text": [
        "\n",
        "Loading: D:/gingivere/Dog_1/Dog_1_interictal_segment_0001.mat\n",
        "Loading: D:/gingivere/Dog_1/Dog_1_interictal_segment_0001.mat\n",
        "Loading: D:/gingivere/Dog_1/Dog_1_interictal_segment_0001.mat\n",
        "Loading: D:/gingivere/Dog_1/Dog_1_interictal_segment_0001.mat\n",
        "Loading: D:/gingivere/Dog_1/Dog_1_interictal_segment_0001.mat\n",
        "Loading: D:/gingivere/Dog_1/Dog_1_interictal_segment_0001.mat\n",
        "Loading: D:/gingivere/Dog_1/Dog_1_interictal_segment_0001.mat\n",
        "Loading: D:/gingivere/Dog_1/Dog_1_interictal_segment_0001.mat"
       ]
      },
      {
       "output_type": "stream",
       "stream": "stdout",
       "text": [
        "\n",
        "Loading: D:/gingivere/Dog_1/Dog_1_interictal_segment_0001.mat\n",
        "Loading: D:/gingivere/Dog_1/Dog_1_interictal_segment_0001.mat\n",
        "Loading: D:/gingivere/Dog_1/Dog_1_interictal_segment_0001.mat\n",
        "Loading: D:/gingivere/Dog_1/Dog_1_interictal_segment_0001.mat\n",
        "Loading: D:/gingivere/Dog_1/Dog_1_interictal_segment_0001.mat\n",
        "Loading: D:/gingivere/Dog_1/Dog_1_interictal_segment_0001.mat\n",
        "Loading: D:/gingivere/Dog_1/Dog_1_interictal_segment_0001.mat\n",
        "Loading: D:/gingivere/Dog_1/Dog_1_interictal_segment_0001.mat"
       ]
      },
      {
       "output_type": "stream",
       "stream": "stdout",
       "text": [
        "\n",
        "Loading: D:/gingivere/Dog_1/Dog_1_interictal_segment_0001.mat\n",
        "Loading: D:/gingivere/Dog_1/Dog_1_interictal_segment_0001.mat\n",
        "Loading: D:/gingivere/Dog_1/Dog_1_interictal_segment_0001.mat\n",
        "Loading: D:/gingivere/Dog_1/Dog_1_interictal_segment_0001.mat\n",
        "Loading: D:/gingivere/Dog_1/Dog_1_interictal_segment_0001.mat\n",
        "Loading: D:/gingivere/Dog_1/Dog_1_interictal_segment_0001.mat\n",
        "Loading: D:/gingivere/Dog_1/Dog_1_interictal_segment_0001.mat\n",
        "Loading: D:/gingivere/Dog_1/Dog_1_interictal_segment_0001.mat"
       ]
      },
      {
       "output_type": "stream",
       "stream": "stdout",
       "text": [
        "\n",
        "Loading: D:/gingivere/Dog_1/Dog_1_interictal_segment_0001.mat\n",
        "Loading: D:/gingivere/Dog_1/Dog_1_interictal_segment_0001.mat\n",
        "Loading: D:/gingivere/Dog_1/Dog_1_interictal_segment_0001.mat\n",
        "Loading: D:/gingivere/Dog_1/Dog_1_interictal_segment_0001.mat\n",
        "Loading: D:/gingivere/Dog_1/Dog_1_interictal_segment_0001.mat\n",
        "Loading: D:/gingivere/Dog_1/Dog_1_interictal_segment_0001.mat\n",
        "Loading: D:/gingivere/Dog_1/Dog_1_interictal_segment_0001.mat\n",
        "Loading: D:/gingivere/Dog_1/Dog_1_interictal_segment_0001.mat"
       ]
      },
      {
       "output_type": "stream",
       "stream": "stdout",
       "text": [
        "\n",
        "Loading: D:/gingivere/Dog_1/Dog_1_interictal_segment_0001.mat\n",
        "Loading: D:/gingivere/Dog_1/Dog_1_interictal_segment_0001.mat\n",
        "Loading: D:/gingivere/Dog_1/Dog_1_interictal_segment_0001.mat\n",
        "Loading: D:/gingivere/Dog_1/Dog_1_interictal_segment_0001.mat\n",
        "Loading: D:/gingivere/Dog_1/Dog_1_interictal_segment_0001.mat\n",
        "Loading: D:/gingivere/Dog_1/Dog_1_interictal_segment_0001.mat\n",
        "Loading: D:/gingivere/Dog_1/Dog_1_interictal_segment_0001.mat\n",
        "Loading: D:/gingivere/Dog_1/Dog_1_interictal_segment_0001.mat"
       ]
      },
      {
       "output_type": "stream",
       "stream": "stdout",
       "text": [
        "\n",
        "Loading: D:/gingivere/Dog_1/Dog_1_interictal_segment_0001.mat\n",
        "Loading: D:/gingivere/Dog_1/Dog_1_interictal_segment_0001.mat\n",
        "Loading: D:/gingivere/Dog_1/Dog_1_interictal_segment_0001.mat\n",
        "Loading: D:/gingivere/Dog_1/Dog_1_interictal_segment_0001.mat\n",
        "Loading: D:/gingivere/Dog_1/Dog_1_interictal_segment_0001.mat\n",
        "Loading: D:/gingivere/Dog_1/Dog_1_interictal_segment_0001.mat\n",
        "Loading: D:/gingivere/Dog_1/Dog_1_interictal_segment_0001.mat\n",
        "Loading: D:/gingivere/Dog_1/Dog_1_interictal_segment_0001.mat"
       ]
      },
      {
       "output_type": "stream",
       "stream": "stdout",
       "text": [
        "\n",
        "Loading: D:/gingivere/Dog_1/Dog_1_interictal_segment_0001.mat\n",
        "Loading: D:/gingivere/Dog_1/Dog_1_interictal_segment_0001.mat\n",
        "Loading: D:/gingivere/Dog_1/Dog_1_interictal_segment_0001.mat\n",
        "Loading: D:/gingivere/Dog_1/Dog_1_interictal_segment_0001.mat\n",
        "Loading: D:/gingivere/Dog_1/Dog_1_interictal_segment_0001.mat\n",
        "Loading: D:/gingivere/Dog_1/Dog_1_interictal_segment_0001.mat\n",
        "Loading: D:/gingivere/Dog_1/Dog_1_interictal_segment_0001.mat\n",
        "Loading: D:/gingivere/Dog_1/Dog_1_interictal_segment_0001.mat"
       ]
      },
      {
       "output_type": "stream",
       "stream": "stdout",
       "text": [
        "\n",
        "Loading: D:/gingivere/Dog_1/Dog_1_interictal_segment_0001.mat\n",
        "Loading: D:/gingivere/Dog_1/Dog_1_interictal_segment_0001.mat\n",
        "Loading: D:/gingivere/Dog_1/Dog_1_interictal_segment_0001.mat\n",
        "Loading: D:/gingivere/Dog_1/Dog_1_interictal_segment_0001.mat\n",
        "Loading: D:/gingivere/Dog_1/Dog_1_interictal_segment_0001.mat\n",
        "Loading: D:/gingivere/Dog_1/Dog_1_interictal_segment_0001.mat\n",
        "Loading: D:/gingivere/Dog_1/Dog_1_interictal_segment_0001.mat\n",
        "Loading: D:/gingivere/Dog_1/Dog_1_interictal_segment_0001.mat"
       ]
      },
      {
       "output_type": "stream",
       "stream": "stdout",
       "text": [
        "\n",
        "Loading: D:/gingivere/Dog_1/Dog_1_interictal_segment_0001.mat\n",
        "Loading: D:/gingivere/Dog_1/Dog_1_interictal_segment_0001.mat\n",
        "Loading: D:/gingivere/Dog_1/Dog_1_interictal_segment_0001.mat\n",
        "Loading: D:/gingivere/Dog_1/Dog_1_interictal_segment_0001.mat\n",
        "Loading: D:/gingivere/Dog_1/Dog_1_interictal_segment_0001.mat\n",
        "Loading: D:/gingivere/Dog_1/Dog_1_interictal_segment_0001.mat\n",
        "Loading: D:/gingivere/Dog_1/Dog_1_interictal_segment_0001.mat\n",
        "Loading: D:/gingivere/Dog_1/Dog_1_interictal_segment_0001.mat"
       ]
      },
      {
       "output_type": "stream",
       "stream": "stdout",
       "text": [
        "\n",
        "Loading: D:/gingivere/Dog_1/Dog_1_interictal_segment_0001.mat\n",
        "Loading: D:/gingivere/Dog_1/Dog_1_interictal_segment_0001.mat\n",
        "Loading: D:/gingivere/Dog_1/Dog_1_interictal_segment_0001.mat\n",
        "Loading: D:/gingivere/Dog_1/Dog_1_interictal_segment_0001.mat\n",
        "Loading: D:/gingivere/Dog_1/Dog_1_interictal_segment_0001.mat\n",
        "Loading: D:/gingivere/Dog_1/Dog_1_interictal_segment_0001.mat\n",
        "Loading: D:/gingivere/Dog_1/Dog_1_interictal_segment_0001.mat\n",
        "Loading: D:/gingivere/Dog_1/Dog_1_interictal_segment_0001.mat"
       ]
      },
      {
       "output_type": "stream",
       "stream": "stdout",
       "text": [
        "\n",
        "Loading: D:/gingivere/Dog_1/Dog_1_interictal_segment_0001.mat\n",
        "Loading: D:/gingivere/Dog_1/Dog_1_interictal_segment_0001.mat\n",
        "Loading: D:/gingivere/Dog_1/Dog_1_interictal_segment_0001.mat\n",
        "Loading: D:/gingivere/Dog_1/Dog_1_interictal_segment_0001.mat\n",
        "Loading: D:/gingivere/Dog_1/Dog_1_interictal_segment_0001.mat\n",
        "Loading: D:/gingivere/Dog_1/Dog_1_interictal_segment_0001.mat\n",
        "Loading: D:/gingivere/Dog_1/Dog_1_interictal_segment_0001.mat\n",
        "Loading: D:/gingivere/Dog_1/Dog_1_interictal_segment_0001.mat"
       ]
      },
      {
       "output_type": "stream",
       "stream": "stdout",
       "text": [
        "\n",
        "Loading: D:/gingivere/Dog_1/Dog_1_interictal_segment_0001.mat\n",
        "Loading: D:/gingivere/Dog_1/Dog_1_interictal_segment_0001.mat\n",
        "Loading: D:/gingivere/Dog_1/Dog_1_interictal_segment_0001.mat\n",
        "Loading: D:/gingivere/Dog_1/Dog_1_interictal_segment_0001.mat\n",
        "Loading: D:/gingivere/Dog_1/Dog_1_interictal_segment_0001.mat\n",
        "Loading: D:/gingivere/Dog_1/Dog_1_interictal_segment_0001.mat\n",
        "Loading: D:/gingivere/Dog_1/Dog_1_interictal_segment_0001.mat\n",
        "Loading: D:/gingivere/Dog_1/Dog_1_interictal_segment_0001.mat"
       ]
      },
      {
       "output_type": "stream",
       "stream": "stdout",
       "text": [
        "\n",
        "Loading: D:/gingivere/Dog_1/Dog_1_interictal_segment_0001.mat\n",
        "Loading: D:/gingivere/Dog_1/Dog_1_interictal_segment_0001.mat\n",
        "Loading: D:/gingivere/Dog_1/Dog_1_interictal_segment_0001.mat\n",
        "Loading: D:/gingivere/Dog_1/Dog_1_interictal_segment_0001.mat\n",
        "Loading: D:/gingivere/Dog_1/Dog_1_interictal_segment_0001.mat\n",
        "Loading: D:/gingivere/Dog_1/Dog_1_interictal_segment_0001.mat\n",
        "Loading: D:/gingivere/Dog_1/Dog_1_interictal_segment_0001.mat\n",
        "Loading: D:/gingivere/Dog_1/Dog_1_interictal_segment_0001.mat"
       ]
      },
      {
       "output_type": "stream",
       "stream": "stdout",
       "text": [
        "\n",
        "Loading: D:/gingivere/Dog_1/Dog_1_interictal_segment_0001.mat\n",
        "Loading: D:/gingivere/Dog_1/Dog_1_interictal_segment_0001.mat\n",
        "Loading: D:/gingivere/Dog_1/Dog_1_interictal_segment_0001.mat\n",
        "Loading: D:/gingivere/Dog_1/Dog_1_interictal_segment_0001.mat\n",
        "Loading: D:/gingivere/Dog_1/Dog_1_interictal_segment_0001.mat\n",
        "Loading: D:/gingivere/Dog_1/Dog_1_interictal_segment_0001.mat\n",
        "Loading: D:/gingivere/Dog_1/Dog_1_interictal_segment_0001.mat\n",
        "Loading: D:/gingivere/Dog_1/Dog_1_interictal_segment_0001.mat"
       ]
      },
      {
       "output_type": "stream",
       "stream": "stdout",
       "text": [
        "\n",
        "Loading: D:/gingivere/Dog_1/Dog_1_interictal_segment_0001.mat\n",
        "Loading: D:/gingivere/Dog_1/Dog_1_interictal_segment_0001.mat\n",
        "Loading: D:/gingivere/Dog_1/Dog_1_interictal_segment_0001.mat\n",
        "Loading: D:/gingivere/Dog_1/Dog_1_interictal_segment_0001.mat\n",
        "Loading: D:/gingivere/Dog_1/Dog_1_interictal_segment_0001.mat\n",
        "Loading: D:/gingivere/Dog_1/Dog_1_interictal_segment_0001.mat\n",
        "Loading: D:/gingivere/Dog_1/Dog_1_interictal_segment_0001.mat\n",
        "Loading: D:/gingivere/Dog_1/Dog_1_interictal_segment_0001.mat"
       ]
      },
      {
       "output_type": "stream",
       "stream": "stdout",
       "text": [
        "\n",
        "Loading: D:/gingivere/Dog_1/Dog_1_interictal_segment_0001.mat\n",
        "Loading: D:/gingivere/Dog_1/Dog_1_interictal_segment_0001.mat\n",
        "Loading: D:/gingivere/Dog_1/Dog_1_interictal_segment_0001.mat\n",
        "Loading: D:/gingivere/Dog_1/Dog_1_interictal_segment_0001.mat\n",
        "Loading: D:/gingivere/Dog_1/Dog_1_interictal_segment_0001.mat\n",
        "Loading: D:/gingivere/Dog_1/Dog_1_interictal_segment_0001.mat\n",
        "Loading: D:/gingivere/Dog_1/Dog_1_interictal_segment_0001.mat\n",
        "Loading: D:/gingivere/Dog_1/Dog_1_interictal_segment_0001.mat"
       ]
      },
      {
       "output_type": "stream",
       "stream": "stdout",
       "text": [
        "\n",
        "Loading: D:/gingivere/Dog_1/Dog_1_interictal_segment_0001.mat\n",
        "Loading: D:/gingivere/Dog_1/Dog_1_interictal_segment_0001.mat\n",
        "Loading: D:/gingivere/Dog_1/Dog_1_interictal_segment_0001.mat\n",
        "Loading: D:/gingivere/Dog_1/Dog_1_interictal_segment_0001.mat\n",
        "Loading: D:/gingivere/Dog_1/Dog_1_interictal_segment_0001.mat\n",
        "Loading: D:/gingivere/Dog_1/Dog_1_interictal_segment_0001.mat\n",
        "Loading: D:/gingivere/Dog_1/Dog_1_interictal_segment_0001.mat\n",
        "Loading: D:/gingivere/Dog_1/Dog_1_interictal_segment_0001.mat"
       ]
      },
      {
       "output_type": "stream",
       "stream": "stdout",
       "text": [
        "\n",
        "Loading: D:/gingivere/Dog_1/Dog_1_interictal_segment_0001.mat\n",
        "Loading: D:/gingivere/Dog_1/Dog_1_interictal_segment_0001.mat\n",
        "Loading: D:/gingivere/Dog_1/Dog_1_interictal_segment_0001.mat\n",
        "Loading: D:/gingivere/Dog_1/Dog_1_interictal_segment_0001.mat\n",
        "Loading: D:/gingivere/Dog_1/Dog_1_interictal_segment_0001.mat\n",
        "Loading: D:/gingivere/Dog_1/Dog_1_interictal_segment_0001.mat\n",
        "Loading: D:/gingivere/Dog_1/Dog_1_interictal_segment_0001.mat\n",
        "Loading: D:/gingivere/Dog_1/Dog_1_interictal_segment_0001.mat"
       ]
      },
      {
       "output_type": "stream",
       "stream": "stdout",
       "text": [
        "\n",
        "Loading: D:/gingivere/Dog_1/Dog_1_interictal_segment_0001.mat\n",
        "Loading: D:/gingivere/Dog_1/Dog_1_interictal_segment_0001.mat\n",
        "Loading: D:/gingivere/Dog_1/Dog_1_interictal_segment_0001.mat\n",
        "Loading: D:/gingivere/Dog_1/Dog_1_interictal_segment_0001.mat\n",
        "Loading: D:/gingivere/Dog_1/Dog_1_interictal_segment_0001.mat\n",
        "Loading: D:/gingivere/Dog_1/Dog_1_interictal_segment_0001.mat\n",
        "Loading: D:/gingivere/Dog_1/Dog_1_interictal_segment_0001.mat\n",
        "Loading: D:/gingivere/Dog_1/Dog_1_interictal_segment_0001.mat"
       ]
      },
      {
       "output_type": "stream",
       "stream": "stdout",
       "text": [
        "\n",
        "Loading: D:/gingivere/Dog_1/Dog_1_interictal_segment_0001.mat\n",
        "Loading: D:/gingivere/Dog_1/Dog_1_interictal_segment_0001.mat\n",
        "Loading: D:/gingivere/Dog_1/Dog_1_interictal_segment_0001.mat\n",
        "Loading: D:/gingivere/Dog_1/Dog_1_interictal_segment_0001.mat\n",
        "Loading: D:/gingivere/Dog_1/Dog_1_interictal_segment_0001.mat\n",
        "Loading: D:/gingivere/Dog_1/Dog_1_interictal_segment_0001.mat\n",
        "Loading: D:/gingivere/Dog_1/Dog_1_interictal_segment_0001.mat\n",
        "Loading: D:/gingivere/Dog_1/Dog_1_interictal_segment_0001.mat"
       ]
      },
      {
       "output_type": "stream",
       "stream": "stdout",
       "text": [
        "\n",
        "Loading: D:/gingivere/Dog_1/Dog_1_interictal_segment_0001.mat\n",
        "Loading: D:/gingivere/Dog_1/Dog_1_interictal_segment_0001.mat\n",
        "Loading: D:/gingivere/Dog_1/Dog_1_interictal_segment_0001.mat\n",
        "Loading: D:/gingivere/Dog_1/Dog_1_interictal_segment_0001.mat\n",
        "Loading: D:/gingivere/Dog_1/Dog_1_interictal_segment_0001.mat\n",
        "Loading: D:/gingivere/Dog_1/Dog_1_interictal_segment_0001.mat\n",
        "Loading: D:/gingivere/Dog_1/Dog_1_interictal_segment_0001.mat\n",
        "Loading: D:/gingivere/Dog_1/Dog_1_interictal_segment_0001.mat"
       ]
      },
      {
       "output_type": "stream",
       "stream": "stdout",
       "text": [
        "\n",
        "Loading: D:/gingivere/Dog_1/Dog_1_interictal_segment_0001.mat\n",
        "Loading: D:/gingivere/Dog_1/Dog_1_interictal_segment_0001.mat\n",
        "Loading: D:/gingivere/Dog_1/Dog_1_interictal_segment_0001.mat\n",
        "Loading: D:/gingivere/Dog_1/Dog_1_interictal_segment_0001.mat\n",
        "Loading: D:/gingivere/Dog_1/Dog_1_interictal_segment_0001.mat\n",
        "Loading: D:/gingivere/Dog_1/Dog_1_interictal_segment_0001.mat\n",
        "Loading: D:/gingivere/Dog_1/Dog_1_interictal_segment_0001.mat\n",
        "Loading: D:/gingivere/Dog_1/Dog_1_interictal_segment_0001.mat"
       ]
      },
      {
       "output_type": "stream",
       "stream": "stdout",
       "text": [
        "\n",
        "Loading: D:/gingivere/Dog_1/Dog_1_interictal_segment_0001.mat\n",
        "Loading: D:/gingivere/Dog_1/Dog_1_interictal_segment_0001.mat\n",
        "Loading: D:/gingivere/Dog_1/Dog_1_interictal_segment_0001.mat\n",
        "Loading: D:/gingivere/Dog_1/Dog_1_interictal_segment_0001.mat\n",
        "Loading: D:/gingivere/Dog_1/Dog_1_interictal_segment_0001.mat\n",
        "Loading: D:/gingivere/Dog_1/Dog_1_interictal_segment_0001.mat\n",
        "Loading: D:/gingivere/Dog_1/Dog_1_interictal_segment_0001.mat\n",
        "Loading: D:/gingivere/Dog_1/Dog_1_interictal_segment_0001.mat"
       ]
      },
      {
       "output_type": "stream",
       "stream": "stdout",
       "text": [
        "\n",
        "Loading: D:/gingivere/Dog_1/Dog_1_interictal_segment_0001.mat\n",
        "Loading: D:/gingivere/Dog_1/Dog_1_interictal_segment_0001.mat\n",
        "Loading: D:/gingivere/Dog_1/Dog_1_interictal_segment_0001.mat\n",
        "Loading: D:/gingivere/Dog_1/Dog_1_interictal_segment_0001.mat\n",
        "Loading: D:/gingivere/Dog_1/Dog_1_interictal_segment_0001.mat\n",
        "Loading: D:/gingivere/Dog_1/Dog_1_interictal_segment_0001.mat\n",
        "Loading: D:/gingivere/Dog_1/Dog_1_interictal_segment_0001.mat\n",
        "Loading: D:/gingivere/Dog_1/Dog_1_interictal_segment_0001.mat"
       ]
      },
      {
       "output_type": "stream",
       "stream": "stdout",
       "text": [
        "\n",
        "Loading: D:/gingivere/Dog_1/Dog_1_interictal_segment_0001.mat\n",
        "Loading: D:/gingivere/Dog_1/Dog_1_interictal_segment_0001.mat\n",
        "Loading: D:/gingivere/Dog_1/Dog_1_interictal_segment_0001.mat\n",
        "Loading: D:/gingivere/Dog_1/Dog_1_interictal_segment_0001.mat\n",
        "Loading: D:/gingivere/Dog_1/Dog_1_interictal_segment_0001.mat\n",
        "Loading: D:/gingivere/Dog_1/Dog_1_interictal_segment_0001.mat\n",
        "Loading: D:/gingivere/Dog_1/Dog_1_interictal_segment_0001.mat\n",
        "Loading: D:/gingivere/Dog_1/Dog_1_interictal_segment_0001.mat"
       ]
      },
      {
       "output_type": "stream",
       "stream": "stdout",
       "text": [
        "\n",
        "Loading: D:/gingivere/Dog_1/Dog_1_interictal_segment_0001.mat\n",
        "Loading: D:/gingivere/Dog_1/Dog_1_interictal_segment_0001.mat\n",
        "Loading: D:/gingivere/Dog_1/Dog_1_interictal_segment_0001.mat\n",
        "Loading: D:/gingivere/Dog_1/Dog_1_interictal_segment_0001.mat\n",
        "Loading: D:/gingivere/Dog_1/Dog_1_interictal_segment_0001.mat\n",
        "Loading: D:/gingivere/Dog_1/Dog_1_interictal_segment_0001.mat\n",
        "Loading: D:/gingivere/Dog_1/Dog_1_interictal_segment_0001.mat\n",
        "Loading: D:/gingivere/Dog_1/Dog_1_interictal_segment_0001.mat"
       ]
      },
      {
       "output_type": "stream",
       "stream": "stdout",
       "text": [
        "\n",
        "Loading: D:/gingivere/Dog_1/Dog_1_interictal_segment_0001.mat\n",
        "Loading: D:/gingivere/Dog_1/Dog_1_interictal_segment_0001.mat\n",
        "Loading: D:/gingivere/Dog_1/Dog_1_interictal_segment_0001.mat\n",
        "Loading: D:/gingivere/Dog_1/Dog_1_interictal_segment_0001.mat\n",
        "Loading: D:/gingivere/Dog_1/Dog_1_interictal_segment_0001.mat\n",
        "Loading: D:/gingivere/Dog_1/Dog_1_interictal_segment_0001.mat\n",
        "Loading: D:/gingivere/Dog_1/Dog_1_interictal_segment_0001.mat\n",
        "Loading: D:/gingivere/Dog_1/Dog_1_interictal_segment_0001.mat"
       ]
      },
      {
       "output_type": "stream",
       "stream": "stdout",
       "text": [
        "\n",
        "Loading: D:/gingivere/Dog_1/Dog_1_interictal_segment_0001.mat\n",
        "Loading: D:/gingivere/Dog_1/Dog_1_interictal_segment_0001.mat\n",
        "Loading: D:/gingivere/Dog_1/Dog_1_interictal_segment_0001.mat\n",
        "Loading: D:/gingivere/Dog_1/Dog_1_interictal_segment_0001.mat\n",
        "Loading: D:/gingivere/Dog_1/Dog_1_interictal_segment_0001.mat\n",
        "Loading: D:/gingivere/Dog_1/Dog_1_interictal_segment_0001.mat\n",
        "Loading: D:/gingivere/Dog_1/Dog_1_interictal_segment_0001.mat\n",
        "Loading: D:/gingivere/Dog_1/Dog_1_interictal_segment_0001.mat"
       ]
      },
      {
       "output_type": "stream",
       "stream": "stdout",
       "text": [
        "\n",
        "Loading: D:/gingivere/Dog_1/Dog_1_interictal_segment_0001.mat\n",
        "Loading: D:/gingivere/Dog_1/Dog_1_interictal_segment_0001.mat\n",
        "Loading: D:/gingivere/Dog_1/Dog_1_interictal_segment_0001.mat\n",
        "Loading: D:/gingivere/Dog_1/Dog_1_interictal_segment_0001.mat\n",
        "Loading: D:/gingivere/Dog_1/Dog_1_interictal_segment_0001.mat\n",
        "Loading: D:/gingivere/Dog_1/Dog_1_interictal_segment_0001.mat\n",
        "Loading: D:/gingivere/Dog_1/Dog_1_interictal_segment_0001.mat\n",
        "Loading: D:/gingivere/Dog_1/Dog_1_interictal_segment_0001.mat"
       ]
      },
      {
       "output_type": "stream",
       "stream": "stdout",
       "text": [
        "\n",
        "Loading: D:/gingivere/Dog_1/Dog_1_interictal_segment_0001.mat\n",
        "Loading: D:/gingivere/Dog_1/Dog_1_interictal_segment_0001.mat\n",
        "Loading: D:/gingivere/Dog_1/Dog_1_interictal_segment_0001.mat\n",
        "Loading: D:/gingivere/Dog_1/Dog_1_interictal_segment_0001.mat\n",
        "Loading: D:/gingivere/Dog_1/Dog_1_interictal_segment_0001.mat\n",
        "Loading: D:/gingivere/Dog_1/Dog_1_interictal_segment_0001.mat\n",
        "Loading: D:/gingivere/Dog_1/Dog_1_interictal_segment_0001.mat\n",
        "Loading: D:/gingivere/Dog_1/Dog_1_interictal_segment_0001.mat"
       ]
      },
      {
       "output_type": "stream",
       "stream": "stdout",
       "text": [
        "\n",
        "Loading: D:/gingivere/Dog_1/Dog_1_interictal_segment_0001.mat\n",
        "Loading: D:/gingivere/Dog_1/Dog_1_interictal_segment_0001.mat\n",
        "Loading: D:/gingivere/Dog_1/Dog_1_interictal_segment_0001.mat\n",
        "Loading: D:/gingivere/Dog_1/Dog_1_interictal_segment_0001.mat\n",
        "Loading: D:/gingivere/Dog_1/Dog_1_interictal_segment_0001.mat\n",
        "Loading: D:/gingivere/Dog_1/Dog_1_interictal_segment_0001.mat\n",
        "Loading: D:/gingivere/Dog_1/Dog_1_interictal_segment_0001.mat\n",
        "Loading: D:/gingivere/Dog_1/Dog_1_interictal_segment_0001.mat"
       ]
      },
      {
       "output_type": "stream",
       "stream": "stdout",
       "text": [
        "\n",
        "Loading: D:/gingivere/Dog_1/Dog_1_interictal_segment_0001.mat\n",
        "Loading: D:/gingivere/Dog_1/Dog_1_interictal_segment_0001.mat\n",
        "Loading: D:/gingivere/Dog_1/Dog_1_interictal_segment_0001.mat\n",
        "Loading: D:/gingivere/Dog_1/Dog_1_interictal_segment_0001.mat\n",
        "Loading: D:/gingivere/Dog_1/Dog_1_interictal_segment_0001.mat\n",
        "Loading: D:/gingivere/Dog_1/Dog_1_interictal_segment_0001.mat\n",
        "Loading: D:/gingivere/Dog_1/Dog_1_interictal_segment_0001.mat\n",
        "Loading: D:/gingivere/Dog_1/Dog_1_interictal_segment_0001.mat"
       ]
      },
      {
       "output_type": "stream",
       "stream": "stdout",
       "text": [
        "\n",
        "Loading: D:/gingivere/Dog_1/Dog_1_interictal_segment_0001.mat\n",
        "Loading: D:/gingivere/Dog_1/Dog_1_interictal_segment_0001.mat\n",
        "Loading: D:/gingivere/Dog_1/Dog_1_interictal_segment_0001.mat\n",
        "Loading: D:/gingivere/Dog_1/Dog_1_interictal_segment_0001.mat\n",
        "Loading: D:/gingivere/Dog_1/Dog_1_interictal_segment_0001.mat\n",
        "Loading: D:/gingivere/Dog_1/Dog_1_interictal_segment_0001.mat\n",
        "Loading: D:/gingivere/Dog_1/Dog_1_interictal_segment_0001.mat\n",
        "Loading: D:/gingivere/Dog_1/Dog_1_interictal_segment_0001.mat"
       ]
      },
      {
       "output_type": "stream",
       "stream": "stdout",
       "text": [
        "\n",
        "Loading: D:/gingivere/Dog_1/Dog_1_interictal_segment_0001.mat\n",
        "Loading: D:/gingivere/Dog_1/Dog_1_interictal_segment_0001.mat\n",
        "Loading: D:/gingivere/Dog_1/Dog_1_interictal_segment_0001.mat\n",
        "Loading: D:/gingivere/Dog_1/Dog_1_interictal_segment_0001.mat\n",
        "Loading: D:/gingivere/Dog_1/Dog_1_interictal_segment_0001.mat\n",
        "Loading: D:/gingivere/Dog_1/Dog_1_interictal_segment_0001.mat\n",
        "Loading: D:/gingivere/Dog_1/Dog_1_interictal_segment_0001.mat\n",
        "Loading: D:/gingivere/Dog_1/Dog_1_interictal_segment_0001.mat"
       ]
      },
      {
       "output_type": "stream",
       "stream": "stdout",
       "text": [
        "\n",
        "Loading: D:/gingivere/Dog_1/Dog_1_interictal_segment_0001.mat\n",
        "Loading: D:/gingivere/Dog_1/Dog_1_interictal_segment_0001.mat\n",
        "Loading: D:/gingivere/Dog_1/Dog_1_interictal_segment_0001.mat\n",
        "100 loops, best of 3: 6.64 ms per loop\n"
       ]
      }
     ],
     "prompt_number": 24
    },
    {
     "cell_type": "code",
     "collapsed": false,
     "input": [
      "%%timeit\n",
      "source_mem(path)"
     ],
     "language": "python",
     "metadata": {},
     "outputs": [
      {
       "output_type": "stream",
       "stream": "stdout",
       "text": [
        "________________________________________________________________________________\n",
        "[Memory] Calling gingivere.transformers.source_mem...\n",
        "source_mem('D:/gingivere/Dog_1/Dog_1_interictal_segment_0001.mat')\n",
        "_______________________________________________________source_mem - 0.0s, 0.0min"
       ]
      },
      {
       "output_type": "stream",
       "stream": "stdout",
       "text": [
        "\n",
        "1000 loops, best of 3: 1.27 ms per loop"
       ]
      },
      {
       "output_type": "stream",
       "stream": "stdout",
       "text": [
        "\n"
       ]
      }
     ],
     "prompt_number": 25
    },
    {
     "cell_type": "heading",
     "level": 2,
     "metadata": {},
     "source": [
      "Masks"
     ]
    },
    {
     "cell_type": "code",
     "collapsed": false,
     "input": [
      "from gingivere.data import generate_mat_cvs, generate_mat_tests\n",
      "\n",
      "paths = generate_mat_cvs(\"Dog_1\")\n",
      "[path for path in paths]"
     ],
     "language": "python",
     "metadata": {},
     "outputs": [
      {
       "metadata": {},
       "output_type": "pyout",
       "prompt_number": 2,
       "text": [
        "['D:/gingivere/Dog_1/Dog_1_interictal_segment_0001.mat',\n",
        " 'D:/gingivere/Dog_1/Dog_1_interictal_segment_0002.mat',\n",
        " 'D:/gingivere/Dog_1/Dog_1_interictal_segment_0003.mat',\n",
        " 'D:/gingivere/Dog_1/Dog_1_interictal_segment_0004.mat',\n",
        " 'D:/gingivere/Dog_1/Dog_1_interictal_segment_0005.mat',\n",
        " 'D:/gingivere/Dog_1/Dog_1_interictal_segment_0006.mat',\n",
        " 'D:/gingivere/Dog_1/Dog_1_interictal_segment_0007.mat',\n",
        " 'D:/gingivere/Dog_1/Dog_1_interictal_segment_0008.mat',\n",
        " 'D:/gingivere/Dog_1/Dog_1_interictal_segment_0009.mat',\n",
        " 'D:/gingivere/Dog_1/Dog_1_interictal_segment_0010.mat',\n",
        " 'D:/gingivere/Dog_1/Dog_1_interictal_segment_0011.mat',\n",
        " 'D:/gingivere/Dog_1/Dog_1_interictal_segment_0012.mat',\n",
        " 'D:/gingivere/Dog_1/Dog_1_interictal_segment_0013.mat',\n",
        " 'D:/gingivere/Dog_1/Dog_1_interictal_segment_0014.mat',\n",
        " 'D:/gingivere/Dog_1/Dog_1_interictal_segment_0015.mat',\n",
        " 'D:/gingivere/Dog_1/Dog_1_interictal_segment_0016.mat',\n",
        " 'D:/gingivere/Dog_1/Dog_1_interictal_segment_0017.mat',\n",
        " 'D:/gingivere/Dog_1/Dog_1_interictal_segment_0018.mat',\n",
        " 'D:/gingivere/Dog_1/Dog_1_interictal_segment_0019.mat',\n",
        " 'D:/gingivere/Dog_1/Dog_1_interictal_segment_0020.mat',\n",
        " 'D:/gingivere/Dog_1/Dog_1_interictal_segment_0021.mat',\n",
        " 'D:/gingivere/Dog_1/Dog_1_interictal_segment_0022.mat',\n",
        " 'D:/gingivere/Dog_1/Dog_1_interictal_segment_0023.mat',\n",
        " 'D:/gingivere/Dog_1/Dog_1_interictal_segment_0024.mat',\n",
        " 'D:/gingivere/Dog_1/Dog_1_interictal_segment_0025.mat',\n",
        " 'D:/gingivere/Dog_1/Dog_1_interictal_segment_0026.mat',\n",
        " 'D:/gingivere/Dog_1/Dog_1_interictal_segment_0027.mat',\n",
        " 'D:/gingivere/Dog_1/Dog_1_interictal_segment_0028.mat',\n",
        " 'D:/gingivere/Dog_1/Dog_1_interictal_segment_0029.mat',\n",
        " 'D:/gingivere/Dog_1/Dog_1_interictal_segment_0030.mat',\n",
        " 'D:/gingivere/Dog_1/Dog_1_interictal_segment_0031.mat',\n",
        " 'D:/gingivere/Dog_1/Dog_1_interictal_segment_0032.mat',\n",
        " 'D:/gingivere/Dog_1/Dog_1_interictal_segment_0033.mat',\n",
        " 'D:/gingivere/Dog_1/Dog_1_interictal_segment_0034.mat',\n",
        " 'D:/gingivere/Dog_1/Dog_1_interictal_segment_0035.mat',\n",
        " 'D:/gingivere/Dog_1/Dog_1_interictal_segment_0036.mat',\n",
        " 'D:/gingivere/Dog_1/Dog_1_interictal_segment_0037.mat',\n",
        " 'D:/gingivere/Dog_1/Dog_1_interictal_segment_0038.mat',\n",
        " 'D:/gingivere/Dog_1/Dog_1_interictal_segment_0039.mat',\n",
        " 'D:/gingivere/Dog_1/Dog_1_interictal_segment_0040.mat',\n",
        " 'D:/gingivere/Dog_1/Dog_1_interictal_segment_0041.mat',\n",
        " 'D:/gingivere/Dog_1/Dog_1_interictal_segment_0042.mat',\n",
        " 'D:/gingivere/Dog_1/Dog_1_interictal_segment_0043.mat',\n",
        " 'D:/gingivere/Dog_1/Dog_1_interictal_segment_0044.mat',\n",
        " 'D:/gingivere/Dog_1/Dog_1_interictal_segment_0045.mat',\n",
        " 'D:/gingivere/Dog_1/Dog_1_interictal_segment_0046.mat',\n",
        " 'D:/gingivere/Dog_1/Dog_1_interictal_segment_0047.mat',\n",
        " 'D:/gingivere/Dog_1/Dog_1_interictal_segment_0048.mat',\n",
        " 'D:/gingivere/Dog_1/Dog_1_interictal_segment_0049.mat',\n",
        " 'D:/gingivere/Dog_1/Dog_1_interictal_segment_0050.mat',\n",
        " 'D:/gingivere/Dog_1/Dog_1_interictal_segment_0051.mat',\n",
        " 'D:/gingivere/Dog_1/Dog_1_interictal_segment_0052.mat',\n",
        " 'D:/gingivere/Dog_1/Dog_1_interictal_segment_0053.mat',\n",
        " 'D:/gingivere/Dog_1/Dog_1_interictal_segment_0054.mat',\n",
        " 'D:/gingivere/Dog_1/Dog_1_interictal_segment_0055.mat',\n",
        " 'D:/gingivere/Dog_1/Dog_1_interictal_segment_0056.mat',\n",
        " 'D:/gingivere/Dog_1/Dog_1_interictal_segment_0057.mat',\n",
        " 'D:/gingivere/Dog_1/Dog_1_interictal_segment_0058.mat',\n",
        " 'D:/gingivere/Dog_1/Dog_1_interictal_segment_0059.mat',\n",
        " 'D:/gingivere/Dog_1/Dog_1_interictal_segment_0060.mat',\n",
        " 'D:/gingivere/Dog_1/Dog_1_interictal_segment_0061.mat',\n",
        " 'D:/gingivere/Dog_1/Dog_1_interictal_segment_0062.mat',\n",
        " 'D:/gingivere/Dog_1/Dog_1_interictal_segment_0063.mat',\n",
        " 'D:/gingivere/Dog_1/Dog_1_interictal_segment_0064.mat',\n",
        " 'D:/gingivere/Dog_1/Dog_1_interictal_segment_0065.mat',\n",
        " 'D:/gingivere/Dog_1/Dog_1_interictal_segment_0066.mat',\n",
        " 'D:/gingivere/Dog_1/Dog_1_interictal_segment_0067.mat',\n",
        " 'D:/gingivere/Dog_1/Dog_1_interictal_segment_0068.mat',\n",
        " 'D:/gingivere/Dog_1/Dog_1_interictal_segment_0069.mat',\n",
        " 'D:/gingivere/Dog_1/Dog_1_interictal_segment_0070.mat',\n",
        " 'D:/gingivere/Dog_1/Dog_1_interictal_segment_0071.mat',\n",
        " 'D:/gingivere/Dog_1/Dog_1_interictal_segment_0072.mat',\n",
        " 'D:/gingivere/Dog_1/Dog_1_interictal_segment_0073.mat',\n",
        " 'D:/gingivere/Dog_1/Dog_1_interictal_segment_0074.mat',\n",
        " 'D:/gingivere/Dog_1/Dog_1_interictal_segment_0075.mat',\n",
        " 'D:/gingivere/Dog_1/Dog_1_interictal_segment_0076.mat',\n",
        " 'D:/gingivere/Dog_1/Dog_1_interictal_segment_0077.mat',\n",
        " 'D:/gingivere/Dog_1/Dog_1_interictal_segment_0078.mat',\n",
        " 'D:/gingivere/Dog_1/Dog_1_interictal_segment_0079.mat',\n",
        " 'D:/gingivere/Dog_1/Dog_1_interictal_segment_0080.mat',\n",
        " 'D:/gingivere/Dog_1/Dog_1_interictal_segment_0081.mat',\n",
        " 'D:/gingivere/Dog_1/Dog_1_interictal_segment_0082.mat',\n",
        " 'D:/gingivere/Dog_1/Dog_1_interictal_segment_0083.mat',\n",
        " 'D:/gingivere/Dog_1/Dog_1_interictal_segment_0084.mat',\n",
        " 'D:/gingivere/Dog_1/Dog_1_interictal_segment_0085.mat',\n",
        " 'D:/gingivere/Dog_1/Dog_1_interictal_segment_0086.mat',\n",
        " 'D:/gingivere/Dog_1/Dog_1_interictal_segment_0087.mat',\n",
        " 'D:/gingivere/Dog_1/Dog_1_interictal_segment_0088.mat',\n",
        " 'D:/gingivere/Dog_1/Dog_1_interictal_segment_0089.mat',\n",
        " 'D:/gingivere/Dog_1/Dog_1_interictal_segment_0090.mat',\n",
        " 'D:/gingivere/Dog_1/Dog_1_interictal_segment_0091.mat',\n",
        " 'D:/gingivere/Dog_1/Dog_1_interictal_segment_0092.mat',\n",
        " 'D:/gingivere/Dog_1/Dog_1_interictal_segment_0093.mat',\n",
        " 'D:/gingivere/Dog_1/Dog_1_interictal_segment_0094.mat',\n",
        " 'D:/gingivere/Dog_1/Dog_1_interictal_segment_0095.mat',\n",
        " 'D:/gingivere/Dog_1/Dog_1_interictal_segment_0096.mat',\n",
        " 'D:/gingivere/Dog_1/Dog_1_interictal_segment_0097.mat',\n",
        " 'D:/gingivere/Dog_1/Dog_1_interictal_segment_0098.mat',\n",
        " 'D:/gingivere/Dog_1/Dog_1_interictal_segment_0099.mat',\n",
        " 'D:/gingivere/Dog_1/Dog_1_interictal_segment_0100.mat',\n",
        " 'D:/gingivere/Dog_1/Dog_1_interictal_segment_0101.mat',\n",
        " 'D:/gingivere/Dog_1/Dog_1_interictal_segment_0102.mat',\n",
        " 'D:/gingivere/Dog_1/Dog_1_interictal_segment_0103.mat',\n",
        " 'D:/gingivere/Dog_1/Dog_1_interictal_segment_0104.mat',\n",
        " 'D:/gingivere/Dog_1/Dog_1_interictal_segment_0105.mat',\n",
        " 'D:/gingivere/Dog_1/Dog_1_interictal_segment_0106.mat',\n",
        " 'D:/gingivere/Dog_1/Dog_1_interictal_segment_0107.mat',\n",
        " 'D:/gingivere/Dog_1/Dog_1_interictal_segment_0108.mat',\n",
        " 'D:/gingivere/Dog_1/Dog_1_interictal_segment_0109.mat',\n",
        " 'D:/gingivere/Dog_1/Dog_1_interictal_segment_0110.mat',\n",
        " 'D:/gingivere/Dog_1/Dog_1_interictal_segment_0111.mat',\n",
        " 'D:/gingivere/Dog_1/Dog_1_interictal_segment_0112.mat',\n",
        " 'D:/gingivere/Dog_1/Dog_1_interictal_segment_0113.mat',\n",
        " 'D:/gingivere/Dog_1/Dog_1_interictal_segment_0114.mat',\n",
        " 'D:/gingivere/Dog_1/Dog_1_interictal_segment_0115.mat',\n",
        " 'D:/gingivere/Dog_1/Dog_1_interictal_segment_0116.mat',\n",
        " 'D:/gingivere/Dog_1/Dog_1_interictal_segment_0117.mat',\n",
        " 'D:/gingivere/Dog_1/Dog_1_interictal_segment_0118.mat',\n",
        " 'D:/gingivere/Dog_1/Dog_1_interictal_segment_0119.mat',\n",
        " 'D:/gingivere/Dog_1/Dog_1_interictal_segment_0120.mat',\n",
        " 'D:/gingivere/Dog_1/Dog_1_interictal_segment_0121.mat',\n",
        " 'D:/gingivere/Dog_1/Dog_1_interictal_segment_0122.mat',\n",
        " 'D:/gingivere/Dog_1/Dog_1_interictal_segment_0123.mat',\n",
        " 'D:/gingivere/Dog_1/Dog_1_interictal_segment_0124.mat',\n",
        " 'D:/gingivere/Dog_1/Dog_1_interictal_segment_0125.mat',\n",
        " 'D:/gingivere/Dog_1/Dog_1_interictal_segment_0126.mat',\n",
        " 'D:/gingivere/Dog_1/Dog_1_interictal_segment_0127.mat',\n",
        " 'D:/gingivere/Dog_1/Dog_1_interictal_segment_0128.mat',\n",
        " 'D:/gingivere/Dog_1/Dog_1_interictal_segment_0129.mat',\n",
        " 'D:/gingivere/Dog_1/Dog_1_interictal_segment_0130.mat',\n",
        " 'D:/gingivere/Dog_1/Dog_1_interictal_segment_0131.mat',\n",
        " 'D:/gingivere/Dog_1/Dog_1_interictal_segment_0132.mat',\n",
        " 'D:/gingivere/Dog_1/Dog_1_interictal_segment_0133.mat',\n",
        " 'D:/gingivere/Dog_1/Dog_1_interictal_segment_0134.mat',\n",
        " 'D:/gingivere/Dog_1/Dog_1_interictal_segment_0135.mat',\n",
        " 'D:/gingivere/Dog_1/Dog_1_interictal_segment_0136.mat',\n",
        " 'D:/gingivere/Dog_1/Dog_1_interictal_segment_0137.mat',\n",
        " 'D:/gingivere/Dog_1/Dog_1_interictal_segment_0138.mat',\n",
        " 'D:/gingivere/Dog_1/Dog_1_interictal_segment_0139.mat',\n",
        " 'D:/gingivere/Dog_1/Dog_1_interictal_segment_0140.mat',\n",
        " 'D:/gingivere/Dog_1/Dog_1_interictal_segment_0141.mat',\n",
        " 'D:/gingivere/Dog_1/Dog_1_interictal_segment_0142.mat',\n",
        " 'D:/gingivere/Dog_1/Dog_1_interictal_segment_0143.mat',\n",
        " 'D:/gingivere/Dog_1/Dog_1_interictal_segment_0144.mat',\n",
        " 'D:/gingivere/Dog_1/Dog_1_interictal_segment_0145.mat',\n",
        " 'D:/gingivere/Dog_1/Dog_1_interictal_segment_0146.mat',\n",
        " 'D:/gingivere/Dog_1/Dog_1_interictal_segment_0147.mat',\n",
        " 'D:/gingivere/Dog_1/Dog_1_interictal_segment_0148.mat',\n",
        " 'D:/gingivere/Dog_1/Dog_1_interictal_segment_0149.mat',\n",
        " 'D:/gingivere/Dog_1/Dog_1_interictal_segment_0150.mat',\n",
        " 'D:/gingivere/Dog_1/Dog_1_interictal_segment_0151.mat',\n",
        " 'D:/gingivere/Dog_1/Dog_1_interictal_segment_0152.mat',\n",
        " 'D:/gingivere/Dog_1/Dog_1_interictal_segment_0153.mat',\n",
        " 'D:/gingivere/Dog_1/Dog_1_interictal_segment_0154.mat',\n",
        " 'D:/gingivere/Dog_1/Dog_1_interictal_segment_0155.mat',\n",
        " 'D:/gingivere/Dog_1/Dog_1_interictal_segment_0156.mat',\n",
        " 'D:/gingivere/Dog_1/Dog_1_interictal_segment_0157.mat',\n",
        " 'D:/gingivere/Dog_1/Dog_1_interictal_segment_0158.mat',\n",
        " 'D:/gingivere/Dog_1/Dog_1_interictal_segment_0159.mat',\n",
        " 'D:/gingivere/Dog_1/Dog_1_interictal_segment_0160.mat',\n",
        " 'D:/gingivere/Dog_1/Dog_1_interictal_segment_0161.mat',\n",
        " 'D:/gingivere/Dog_1/Dog_1_interictal_segment_0162.mat',\n",
        " 'D:/gingivere/Dog_1/Dog_1_interictal_segment_0163.mat',\n",
        " 'D:/gingivere/Dog_1/Dog_1_interictal_segment_0164.mat',\n",
        " 'D:/gingivere/Dog_1/Dog_1_interictal_segment_0165.mat',\n",
        " 'D:/gingivere/Dog_1/Dog_1_interictal_segment_0166.mat',\n",
        " 'D:/gingivere/Dog_1/Dog_1_interictal_segment_0167.mat',\n",
        " 'D:/gingivere/Dog_1/Dog_1_interictal_segment_0168.mat',\n",
        " 'D:/gingivere/Dog_1/Dog_1_interictal_segment_0169.mat',\n",
        " 'D:/gingivere/Dog_1/Dog_1_interictal_segment_0170.mat',\n",
        " 'D:/gingivere/Dog_1/Dog_1_interictal_segment_0171.mat',\n",
        " 'D:/gingivere/Dog_1/Dog_1_interictal_segment_0172.mat',\n",
        " 'D:/gingivere/Dog_1/Dog_1_interictal_segment_0173.mat',\n",
        " 'D:/gingivere/Dog_1/Dog_1_interictal_segment_0174.mat',\n",
        " 'D:/gingivere/Dog_1/Dog_1_interictal_segment_0175.mat',\n",
        " 'D:/gingivere/Dog_1/Dog_1_interictal_segment_0176.mat',\n",
        " 'D:/gingivere/Dog_1/Dog_1_interictal_segment_0177.mat',\n",
        " 'D:/gingivere/Dog_1/Dog_1_interictal_segment_0178.mat',\n",
        " 'D:/gingivere/Dog_1/Dog_1_interictal_segment_0179.mat',\n",
        " 'D:/gingivere/Dog_1/Dog_1_interictal_segment_0180.mat',\n",
        " 'D:/gingivere/Dog_1/Dog_1_interictal_segment_0181.mat',\n",
        " 'D:/gingivere/Dog_1/Dog_1_interictal_segment_0182.mat',\n",
        " 'D:/gingivere/Dog_1/Dog_1_interictal_segment_0183.mat',\n",
        " 'D:/gingivere/Dog_1/Dog_1_interictal_segment_0184.mat',\n",
        " 'D:/gingivere/Dog_1/Dog_1_interictal_segment_0185.mat',\n",
        " 'D:/gingivere/Dog_1/Dog_1_interictal_segment_0186.mat',\n",
        " 'D:/gingivere/Dog_1/Dog_1_interictal_segment_0187.mat',\n",
        " 'D:/gingivere/Dog_1/Dog_1_interictal_segment_0188.mat',\n",
        " 'D:/gingivere/Dog_1/Dog_1_interictal_segment_0189.mat',\n",
        " 'D:/gingivere/Dog_1/Dog_1_interictal_segment_0190.mat',\n",
        " 'D:/gingivere/Dog_1/Dog_1_interictal_segment_0191.mat',\n",
        " 'D:/gingivere/Dog_1/Dog_1_interictal_segment_0192.mat',\n",
        " 'D:/gingivere/Dog_1/Dog_1_interictal_segment_0193.mat',\n",
        " 'D:/gingivere/Dog_1/Dog_1_interictal_segment_0194.mat',\n",
        " 'D:/gingivere/Dog_1/Dog_1_interictal_segment_0195.mat',\n",
        " 'D:/gingivere/Dog_1/Dog_1_interictal_segment_0196.mat',\n",
        " 'D:/gingivere/Dog_1/Dog_1_interictal_segment_0197.mat',\n",
        " 'D:/gingivere/Dog_1/Dog_1_interictal_segment_0198.mat',\n",
        " 'D:/gingivere/Dog_1/Dog_1_interictal_segment_0199.mat',\n",
        " 'D:/gingivere/Dog_1/Dog_1_interictal_segment_0200.mat',\n",
        " 'D:/gingivere/Dog_1/Dog_1_interictal_segment_0201.mat',\n",
        " 'D:/gingivere/Dog_1/Dog_1_interictal_segment_0202.mat',\n",
        " 'D:/gingivere/Dog_1/Dog_1_interictal_segment_0203.mat',\n",
        " 'D:/gingivere/Dog_1/Dog_1_interictal_segment_0204.mat',\n",
        " 'D:/gingivere/Dog_1/Dog_1_interictal_segment_0205.mat',\n",
        " 'D:/gingivere/Dog_1/Dog_1_interictal_segment_0206.mat',\n",
        " 'D:/gingivere/Dog_1/Dog_1_interictal_segment_0207.mat',\n",
        " 'D:/gingivere/Dog_1/Dog_1_interictal_segment_0208.mat',\n",
        " 'D:/gingivere/Dog_1/Dog_1_interictal_segment_0209.mat',\n",
        " 'D:/gingivere/Dog_1/Dog_1_interictal_segment_0210.mat',\n",
        " 'D:/gingivere/Dog_1/Dog_1_interictal_segment_0211.mat',\n",
        " 'D:/gingivere/Dog_1/Dog_1_interictal_segment_0212.mat',\n",
        " 'D:/gingivere/Dog_1/Dog_1_interictal_segment_0213.mat',\n",
        " 'D:/gingivere/Dog_1/Dog_1_interictal_segment_0214.mat',\n",
        " 'D:/gingivere/Dog_1/Dog_1_interictal_segment_0215.mat',\n",
        " 'D:/gingivere/Dog_1/Dog_1_interictal_segment_0216.mat',\n",
        " 'D:/gingivere/Dog_1/Dog_1_interictal_segment_0217.mat',\n",
        " 'D:/gingivere/Dog_1/Dog_1_interictal_segment_0218.mat',\n",
        " 'D:/gingivere/Dog_1/Dog_1_interictal_segment_0219.mat',\n",
        " 'D:/gingivere/Dog_1/Dog_1_interictal_segment_0220.mat',\n",
        " 'D:/gingivere/Dog_1/Dog_1_interictal_segment_0221.mat',\n",
        " 'D:/gingivere/Dog_1/Dog_1_interictal_segment_0222.mat',\n",
        " 'D:/gingivere/Dog_1/Dog_1_interictal_segment_0223.mat',\n",
        " 'D:/gingivere/Dog_1/Dog_1_interictal_segment_0224.mat',\n",
        " 'D:/gingivere/Dog_1/Dog_1_interictal_segment_0225.mat',\n",
        " 'D:/gingivere/Dog_1/Dog_1_interictal_segment_0226.mat',\n",
        " 'D:/gingivere/Dog_1/Dog_1_interictal_segment_0227.mat',\n",
        " 'D:/gingivere/Dog_1/Dog_1_interictal_segment_0228.mat',\n",
        " 'D:/gingivere/Dog_1/Dog_1_interictal_segment_0229.mat',\n",
        " 'D:/gingivere/Dog_1/Dog_1_interictal_segment_0230.mat',\n",
        " 'D:/gingivere/Dog_1/Dog_1_interictal_segment_0231.mat',\n",
        " 'D:/gingivere/Dog_1/Dog_1_interictal_segment_0232.mat',\n",
        " 'D:/gingivere/Dog_1/Dog_1_interictal_segment_0233.mat',\n",
        " 'D:/gingivere/Dog_1/Dog_1_interictal_segment_0234.mat',\n",
        " 'D:/gingivere/Dog_1/Dog_1_interictal_segment_0235.mat',\n",
        " 'D:/gingivere/Dog_1/Dog_1_interictal_segment_0236.mat',\n",
        " 'D:/gingivere/Dog_1/Dog_1_interictal_segment_0237.mat',\n",
        " 'D:/gingivere/Dog_1/Dog_1_interictal_segment_0238.mat',\n",
        " 'D:/gingivere/Dog_1/Dog_1_interictal_segment_0239.mat',\n",
        " 'D:/gingivere/Dog_1/Dog_1_interictal_segment_0240.mat',\n",
        " 'D:/gingivere/Dog_1/Dog_1_interictal_segment_0241.mat',\n",
        " 'D:/gingivere/Dog_1/Dog_1_interictal_segment_0242.mat',\n",
        " 'D:/gingivere/Dog_1/Dog_1_interictal_segment_0243.mat',\n",
        " 'D:/gingivere/Dog_1/Dog_1_interictal_segment_0244.mat',\n",
        " 'D:/gingivere/Dog_1/Dog_1_interictal_segment_0245.mat',\n",
        " 'D:/gingivere/Dog_1/Dog_1_interictal_segment_0246.mat',\n",
        " 'D:/gingivere/Dog_1/Dog_1_interictal_segment_0247.mat',\n",
        " 'D:/gingivere/Dog_1/Dog_1_interictal_segment_0248.mat',\n",
        " 'D:/gingivere/Dog_1/Dog_1_interictal_segment_0249.mat',\n",
        " 'D:/gingivere/Dog_1/Dog_1_interictal_segment_0250.mat',\n",
        " 'D:/gingivere/Dog_1/Dog_1_interictal_segment_0251.mat',\n",
        " 'D:/gingivere/Dog_1/Dog_1_interictal_segment_0252.mat',\n",
        " 'D:/gingivere/Dog_1/Dog_1_interictal_segment_0253.mat',\n",
        " 'D:/gingivere/Dog_1/Dog_1_interictal_segment_0254.mat',\n",
        " 'D:/gingivere/Dog_1/Dog_1_interictal_segment_0255.mat',\n",
        " 'D:/gingivere/Dog_1/Dog_1_interictal_segment_0256.mat',\n",
        " 'D:/gingivere/Dog_1/Dog_1_interictal_segment_0257.mat',\n",
        " 'D:/gingivere/Dog_1/Dog_1_interictal_segment_0258.mat',\n",
        " 'D:/gingivere/Dog_1/Dog_1_interictal_segment_0259.mat',\n",
        " 'D:/gingivere/Dog_1/Dog_1_interictal_segment_0260.mat',\n",
        " 'D:/gingivere/Dog_1/Dog_1_interictal_segment_0261.mat',\n",
        " 'D:/gingivere/Dog_1/Dog_1_interictal_segment_0262.mat',\n",
        " 'D:/gingivere/Dog_1/Dog_1_interictal_segment_0263.mat',\n",
        " 'D:/gingivere/Dog_1/Dog_1_interictal_segment_0264.mat',\n",
        " 'D:/gingivere/Dog_1/Dog_1_interictal_segment_0265.mat',\n",
        " 'D:/gingivere/Dog_1/Dog_1_interictal_segment_0266.mat',\n",
        " 'D:/gingivere/Dog_1/Dog_1_interictal_segment_0267.mat',\n",
        " 'D:/gingivere/Dog_1/Dog_1_interictal_segment_0268.mat',\n",
        " 'D:/gingivere/Dog_1/Dog_1_interictal_segment_0269.mat',\n",
        " 'D:/gingivere/Dog_1/Dog_1_interictal_segment_0270.mat',\n",
        " 'D:/gingivere/Dog_1/Dog_1_interictal_segment_0271.mat',\n",
        " 'D:/gingivere/Dog_1/Dog_1_interictal_segment_0272.mat',\n",
        " 'D:/gingivere/Dog_1/Dog_1_interictal_segment_0273.mat',\n",
        " 'D:/gingivere/Dog_1/Dog_1_interictal_segment_0274.mat',\n",
        " 'D:/gingivere/Dog_1/Dog_1_interictal_segment_0275.mat',\n",
        " 'D:/gingivere/Dog_1/Dog_1_interictal_segment_0276.mat',\n",
        " 'D:/gingivere/Dog_1/Dog_1_interictal_segment_0277.mat',\n",
        " 'D:/gingivere/Dog_1/Dog_1_interictal_segment_0278.mat',\n",
        " 'D:/gingivere/Dog_1/Dog_1_interictal_segment_0279.mat',\n",
        " 'D:/gingivere/Dog_1/Dog_1_interictal_segment_0280.mat',\n",
        " 'D:/gingivere/Dog_1/Dog_1_interictal_segment_0281.mat',\n",
        " 'D:/gingivere/Dog_1/Dog_1_interictal_segment_0282.mat',\n",
        " 'D:/gingivere/Dog_1/Dog_1_interictal_segment_0283.mat',\n",
        " 'D:/gingivere/Dog_1/Dog_1_interictal_segment_0284.mat',\n",
        " 'D:/gingivere/Dog_1/Dog_1_interictal_segment_0285.mat',\n",
        " 'D:/gingivere/Dog_1/Dog_1_interictal_segment_0286.mat',\n",
        " 'D:/gingivere/Dog_1/Dog_1_interictal_segment_0287.mat',\n",
        " 'D:/gingivere/Dog_1/Dog_1_interictal_segment_0288.mat',\n",
        " 'D:/gingivere/Dog_1/Dog_1_interictal_segment_0289.mat',\n",
        " 'D:/gingivere/Dog_1/Dog_1_interictal_segment_0290.mat',\n",
        " 'D:/gingivere/Dog_1/Dog_1_interictal_segment_0291.mat',\n",
        " 'D:/gingivere/Dog_1/Dog_1_interictal_segment_0292.mat',\n",
        " 'D:/gingivere/Dog_1/Dog_1_interictal_segment_0293.mat',\n",
        " 'D:/gingivere/Dog_1/Dog_1_interictal_segment_0294.mat',\n",
        " 'D:/gingivere/Dog_1/Dog_1_interictal_segment_0295.mat',\n",
        " 'D:/gingivere/Dog_1/Dog_1_interictal_segment_0296.mat',\n",
        " 'D:/gingivere/Dog_1/Dog_1_interictal_segment_0297.mat',\n",
        " 'D:/gingivere/Dog_1/Dog_1_interictal_segment_0298.mat',\n",
        " 'D:/gingivere/Dog_1/Dog_1_interictal_segment_0299.mat',\n",
        " 'D:/gingivere/Dog_1/Dog_1_interictal_segment_0300.mat',\n",
        " 'D:/gingivere/Dog_1/Dog_1_interictal_segment_0301.mat',\n",
        " 'D:/gingivere/Dog_1/Dog_1_interictal_segment_0302.mat',\n",
        " 'D:/gingivere/Dog_1/Dog_1_interictal_segment_0303.mat',\n",
        " 'D:/gingivere/Dog_1/Dog_1_interictal_segment_0304.mat',\n",
        " 'D:/gingivere/Dog_1/Dog_1_interictal_segment_0305.mat',\n",
        " 'D:/gingivere/Dog_1/Dog_1_interictal_segment_0306.mat',\n",
        " 'D:/gingivere/Dog_1/Dog_1_interictal_segment_0307.mat',\n",
        " 'D:/gingivere/Dog_1/Dog_1_interictal_segment_0308.mat',\n",
        " 'D:/gingivere/Dog_1/Dog_1_interictal_segment_0309.mat',\n",
        " 'D:/gingivere/Dog_1/Dog_1_interictal_segment_0310.mat',\n",
        " 'D:/gingivere/Dog_1/Dog_1_interictal_segment_0311.mat',\n",
        " 'D:/gingivere/Dog_1/Dog_1_interictal_segment_0312.mat',\n",
        " 'D:/gingivere/Dog_1/Dog_1_interictal_segment_0313.mat',\n",
        " 'D:/gingivere/Dog_1/Dog_1_interictal_segment_0314.mat',\n",
        " 'D:/gingivere/Dog_1/Dog_1_interictal_segment_0315.mat',\n",
        " 'D:/gingivere/Dog_1/Dog_1_interictal_segment_0316.mat',\n",
        " 'D:/gingivere/Dog_1/Dog_1_interictal_segment_0317.mat',\n",
        " 'D:/gingivere/Dog_1/Dog_1_interictal_segment_0318.mat',\n",
        " 'D:/gingivere/Dog_1/Dog_1_interictal_segment_0319.mat',\n",
        " 'D:/gingivere/Dog_1/Dog_1_interictal_segment_0320.mat',\n",
        " 'D:/gingivere/Dog_1/Dog_1_interictal_segment_0321.mat',\n",
        " 'D:/gingivere/Dog_1/Dog_1_interictal_segment_0322.mat',\n",
        " 'D:/gingivere/Dog_1/Dog_1_interictal_segment_0323.mat',\n",
        " 'D:/gingivere/Dog_1/Dog_1_interictal_segment_0324.mat',\n",
        " 'D:/gingivere/Dog_1/Dog_1_interictal_segment_0325.mat',\n",
        " 'D:/gingivere/Dog_1/Dog_1_interictal_segment_0326.mat',\n",
        " 'D:/gingivere/Dog_1/Dog_1_interictal_segment_0327.mat',\n",
        " 'D:/gingivere/Dog_1/Dog_1_interictal_segment_0328.mat',\n",
        " 'D:/gingivere/Dog_1/Dog_1_interictal_segment_0329.mat',\n",
        " 'D:/gingivere/Dog_1/Dog_1_interictal_segment_0330.mat',\n",
        " 'D:/gingivere/Dog_1/Dog_1_interictal_segment_0331.mat',\n",
        " 'D:/gingivere/Dog_1/Dog_1_interictal_segment_0332.mat',\n",
        " 'D:/gingivere/Dog_1/Dog_1_interictal_segment_0333.mat',\n",
        " 'D:/gingivere/Dog_1/Dog_1_interictal_segment_0334.mat',\n",
        " 'D:/gingivere/Dog_1/Dog_1_interictal_segment_0335.mat',\n",
        " 'D:/gingivere/Dog_1/Dog_1_interictal_segment_0336.mat',\n",
        " 'D:/gingivere/Dog_1/Dog_1_interictal_segment_0337.mat',\n",
        " 'D:/gingivere/Dog_1/Dog_1_interictal_segment_0338.mat',\n",
        " 'D:/gingivere/Dog_1/Dog_1_interictal_segment_0339.mat',\n",
        " 'D:/gingivere/Dog_1/Dog_1_interictal_segment_0340.mat',\n",
        " 'D:/gingivere/Dog_1/Dog_1_interictal_segment_0341.mat',\n",
        " 'D:/gingivere/Dog_1/Dog_1_interictal_segment_0342.mat',\n",
        " 'D:/gingivere/Dog_1/Dog_1_interictal_segment_0343.mat',\n",
        " 'D:/gingivere/Dog_1/Dog_1_interictal_segment_0344.mat',\n",
        " 'D:/gingivere/Dog_1/Dog_1_interictal_segment_0345.mat',\n",
        " 'D:/gingivere/Dog_1/Dog_1_interictal_segment_0346.mat',\n",
        " 'D:/gingivere/Dog_1/Dog_1_interictal_segment_0347.mat',\n",
        " 'D:/gingivere/Dog_1/Dog_1_interictal_segment_0348.mat',\n",
        " 'D:/gingivere/Dog_1/Dog_1_interictal_segment_0349.mat',\n",
        " 'D:/gingivere/Dog_1/Dog_1_interictal_segment_0350.mat',\n",
        " 'D:/gingivere/Dog_1/Dog_1_interictal_segment_0351.mat',\n",
        " 'D:/gingivere/Dog_1/Dog_1_interictal_segment_0352.mat',\n",
        " 'D:/gingivere/Dog_1/Dog_1_interictal_segment_0353.mat',\n",
        " 'D:/gingivere/Dog_1/Dog_1_interictal_segment_0354.mat',\n",
        " 'D:/gingivere/Dog_1/Dog_1_interictal_segment_0355.mat',\n",
        " 'D:/gingivere/Dog_1/Dog_1_interictal_segment_0356.mat',\n",
        " 'D:/gingivere/Dog_1/Dog_1_interictal_segment_0357.mat',\n",
        " 'D:/gingivere/Dog_1/Dog_1_interictal_segment_0358.mat',\n",
        " 'D:/gingivere/Dog_1/Dog_1_interictal_segment_0359.mat',\n",
        " 'D:/gingivere/Dog_1/Dog_1_interictal_segment_0360.mat',\n",
        " 'D:/gingivere/Dog_1/Dog_1_interictal_segment_0361.mat',\n",
        " 'D:/gingivere/Dog_1/Dog_1_interictal_segment_0362.mat',\n",
        " 'D:/gingivere/Dog_1/Dog_1_interictal_segment_0363.mat',\n",
        " 'D:/gingivere/Dog_1/Dog_1_interictal_segment_0364.mat',\n",
        " 'D:/gingivere/Dog_1/Dog_1_interictal_segment_0365.mat',\n",
        " 'D:/gingivere/Dog_1/Dog_1_interictal_segment_0366.mat',\n",
        " 'D:/gingivere/Dog_1/Dog_1_interictal_segment_0367.mat',\n",
        " 'D:/gingivere/Dog_1/Dog_1_interictal_segment_0368.mat',\n",
        " 'D:/gingivere/Dog_1/Dog_1_interictal_segment_0369.mat',\n",
        " 'D:/gingivere/Dog_1/Dog_1_interictal_segment_0370.mat',\n",
        " 'D:/gingivere/Dog_1/Dog_1_interictal_segment_0371.mat',\n",
        " 'D:/gingivere/Dog_1/Dog_1_interictal_segment_0372.mat',\n",
        " 'D:/gingivere/Dog_1/Dog_1_interictal_segment_0373.mat',\n",
        " 'D:/gingivere/Dog_1/Dog_1_interictal_segment_0374.mat',\n",
        " 'D:/gingivere/Dog_1/Dog_1_interictal_segment_0375.mat',\n",
        " 'D:/gingivere/Dog_1/Dog_1_interictal_segment_0376.mat',\n",
        " 'D:/gingivere/Dog_1/Dog_1_interictal_segment_0377.mat',\n",
        " 'D:/gingivere/Dog_1/Dog_1_interictal_segment_0378.mat',\n",
        " 'D:/gingivere/Dog_1/Dog_1_interictal_segment_0379.mat',\n",
        " 'D:/gingivere/Dog_1/Dog_1_interictal_segment_0380.mat',\n",
        " 'D:/gingivere/Dog_1/Dog_1_interictal_segment_0381.mat',\n",
        " 'D:/gingivere/Dog_1/Dog_1_interictal_segment_0382.mat',\n",
        " 'D:/gingivere/Dog_1/Dog_1_interictal_segment_0383.mat',\n",
        " 'D:/gingivere/Dog_1/Dog_1_interictal_segment_0384.mat',\n",
        " 'D:/gingivere/Dog_1/Dog_1_interictal_segment_0385.mat',\n",
        " 'D:/gingivere/Dog_1/Dog_1_interictal_segment_0386.mat',\n",
        " 'D:/gingivere/Dog_1/Dog_1_interictal_segment_0387.mat',\n",
        " 'D:/gingivere/Dog_1/Dog_1_interictal_segment_0388.mat',\n",
        " 'D:/gingivere/Dog_1/Dog_1_interictal_segment_0389.mat',\n",
        " 'D:/gingivere/Dog_1/Dog_1_interictal_segment_0390.mat',\n",
        " 'D:/gingivere/Dog_1/Dog_1_interictal_segment_0391.mat',\n",
        " 'D:/gingivere/Dog_1/Dog_1_interictal_segment_0392.mat',\n",
        " 'D:/gingivere/Dog_1/Dog_1_interictal_segment_0393.mat',\n",
        " 'D:/gingivere/Dog_1/Dog_1_interictal_segment_0394.mat',\n",
        " 'D:/gingivere/Dog_1/Dog_1_interictal_segment_0395.mat',\n",
        " 'D:/gingivere/Dog_1/Dog_1_interictal_segment_0396.mat',\n",
        " 'D:/gingivere/Dog_1/Dog_1_interictal_segment_0397.mat',\n",
        " 'D:/gingivere/Dog_1/Dog_1_interictal_segment_0398.mat',\n",
        " 'D:/gingivere/Dog_1/Dog_1_interictal_segment_0399.mat',\n",
        " 'D:/gingivere/Dog_1/Dog_1_interictal_segment_0400.mat',\n",
        " 'D:/gingivere/Dog_1/Dog_1_interictal_segment_0401.mat',\n",
        " 'D:/gingivere/Dog_1/Dog_1_interictal_segment_0402.mat',\n",
        " 'D:/gingivere/Dog_1/Dog_1_interictal_segment_0403.mat',\n",
        " 'D:/gingivere/Dog_1/Dog_1_interictal_segment_0404.mat',\n",
        " 'D:/gingivere/Dog_1/Dog_1_interictal_segment_0405.mat',\n",
        " 'D:/gingivere/Dog_1/Dog_1_interictal_segment_0406.mat',\n",
        " 'D:/gingivere/Dog_1/Dog_1_interictal_segment_0407.mat',\n",
        " 'D:/gingivere/Dog_1/Dog_1_interictal_segment_0408.mat',\n",
        " 'D:/gingivere/Dog_1/Dog_1_interictal_segment_0409.mat',\n",
        " 'D:/gingivere/Dog_1/Dog_1_interictal_segment_0410.mat',\n",
        " 'D:/gingivere/Dog_1/Dog_1_interictal_segment_0411.mat',\n",
        " 'D:/gingivere/Dog_1/Dog_1_interictal_segment_0412.mat',\n",
        " 'D:/gingivere/Dog_1/Dog_1_interictal_segment_0413.mat',\n",
        " 'D:/gingivere/Dog_1/Dog_1_interictal_segment_0414.mat',\n",
        " 'D:/gingivere/Dog_1/Dog_1_interictal_segment_0415.mat',\n",
        " 'D:/gingivere/Dog_1/Dog_1_interictal_segment_0416.mat',\n",
        " 'D:/gingivere/Dog_1/Dog_1_interictal_segment_0417.mat',\n",
        " 'D:/gingivere/Dog_1/Dog_1_interictal_segment_0418.mat',\n",
        " 'D:/gingivere/Dog_1/Dog_1_interictal_segment_0419.mat',\n",
        " 'D:/gingivere/Dog_1/Dog_1_interictal_segment_0420.mat',\n",
        " 'D:/gingivere/Dog_1/Dog_1_interictal_segment_0421.mat',\n",
        " 'D:/gingivere/Dog_1/Dog_1_interictal_segment_0422.mat',\n",
        " 'D:/gingivere/Dog_1/Dog_1_interictal_segment_0423.mat',\n",
        " 'D:/gingivere/Dog_1/Dog_1_interictal_segment_0424.mat',\n",
        " 'D:/gingivere/Dog_1/Dog_1_interictal_segment_0425.mat',\n",
        " 'D:/gingivere/Dog_1/Dog_1_interictal_segment_0426.mat',\n",
        " 'D:/gingivere/Dog_1/Dog_1_interictal_segment_0427.mat',\n",
        " 'D:/gingivere/Dog_1/Dog_1_interictal_segment_0428.mat',\n",
        " 'D:/gingivere/Dog_1/Dog_1_interictal_segment_0429.mat',\n",
        " 'D:/gingivere/Dog_1/Dog_1_interictal_segment_0430.mat',\n",
        " 'D:/gingivere/Dog_1/Dog_1_interictal_segment_0431.mat',\n",
        " 'D:/gingivere/Dog_1/Dog_1_interictal_segment_0432.mat',\n",
        " 'D:/gingivere/Dog_1/Dog_1_interictal_segment_0433.mat',\n",
        " 'D:/gingivere/Dog_1/Dog_1_interictal_segment_0434.mat',\n",
        " 'D:/gingivere/Dog_1/Dog_1_interictal_segment_0435.mat',\n",
        " 'D:/gingivere/Dog_1/Dog_1_interictal_segment_0436.mat',\n",
        " 'D:/gingivere/Dog_1/Dog_1_interictal_segment_0437.mat',\n",
        " 'D:/gingivere/Dog_1/Dog_1_interictal_segment_0438.mat',\n",
        " 'D:/gingivere/Dog_1/Dog_1_interictal_segment_0439.mat',\n",
        " 'D:/gingivere/Dog_1/Dog_1_interictal_segment_0440.mat',\n",
        " 'D:/gingivere/Dog_1/Dog_1_interictal_segment_0441.mat',\n",
        " 'D:/gingivere/Dog_1/Dog_1_interictal_segment_0442.mat',\n",
        " 'D:/gingivere/Dog_1/Dog_1_interictal_segment_0443.mat',\n",
        " 'D:/gingivere/Dog_1/Dog_1_interictal_segment_0444.mat',\n",
        " 'D:/gingivere/Dog_1/Dog_1_interictal_segment_0445.mat',\n",
        " 'D:/gingivere/Dog_1/Dog_1_interictal_segment_0446.mat',\n",
        " 'D:/gingivere/Dog_1/Dog_1_interictal_segment_0447.mat',\n",
        " 'D:/gingivere/Dog_1/Dog_1_interictal_segment_0448.mat',\n",
        " 'D:/gingivere/Dog_1/Dog_1_interictal_segment_0449.mat',\n",
        " 'D:/gingivere/Dog_1/Dog_1_interictal_segment_0450.mat',\n",
        " 'D:/gingivere/Dog_1/Dog_1_interictal_segment_0451.mat',\n",
        " 'D:/gingivere/Dog_1/Dog_1_interictal_segment_0452.mat',\n",
        " 'D:/gingivere/Dog_1/Dog_1_interictal_segment_0453.mat',\n",
        " 'D:/gingivere/Dog_1/Dog_1_interictal_segment_0454.mat',\n",
        " 'D:/gingivere/Dog_1/Dog_1_interictal_segment_0455.mat',\n",
        " 'D:/gingivere/Dog_1/Dog_1_interictal_segment_0456.mat',\n",
        " 'D:/gingivere/Dog_1/Dog_1_interictal_segment_0457.mat',\n",
        " 'D:/gingivere/Dog_1/Dog_1_interictal_segment_0458.mat',\n",
        " 'D:/gingivere/Dog_1/Dog_1_interictal_segment_0459.mat',\n",
        " 'D:/gingivere/Dog_1/Dog_1_interictal_segment_0460.mat',\n",
        " 'D:/gingivere/Dog_1/Dog_1_interictal_segment_0461.mat',\n",
        " 'D:/gingivere/Dog_1/Dog_1_interictal_segment_0462.mat',\n",
        " 'D:/gingivere/Dog_1/Dog_1_interictal_segment_0463.mat',\n",
        " 'D:/gingivere/Dog_1/Dog_1_interictal_segment_0464.mat',\n",
        " 'D:/gingivere/Dog_1/Dog_1_interictal_segment_0465.mat',\n",
        " 'D:/gingivere/Dog_1/Dog_1_interictal_segment_0466.mat',\n",
        " 'D:/gingivere/Dog_1/Dog_1_interictal_segment_0467.mat',\n",
        " 'D:/gingivere/Dog_1/Dog_1_interictal_segment_0468.mat',\n",
        " 'D:/gingivere/Dog_1/Dog_1_interictal_segment_0469.mat',\n",
        " 'D:/gingivere/Dog_1/Dog_1_interictal_segment_0470.mat',\n",
        " 'D:/gingivere/Dog_1/Dog_1_interictal_segment_0471.mat',\n",
        " 'D:/gingivere/Dog_1/Dog_1_interictal_segment_0472.mat',\n",
        " 'D:/gingivere/Dog_1/Dog_1_interictal_segment_0473.mat',\n",
        " 'D:/gingivere/Dog_1/Dog_1_interictal_segment_0474.mat',\n",
        " 'D:/gingivere/Dog_1/Dog_1_interictal_segment_0475.mat',\n",
        " 'D:/gingivere/Dog_1/Dog_1_interictal_segment_0476.mat',\n",
        " 'D:/gingivere/Dog_1/Dog_1_interictal_segment_0477.mat',\n",
        " 'D:/gingivere/Dog_1/Dog_1_interictal_segment_0478.mat',\n",
        " 'D:/gingivere/Dog_1/Dog_1_interictal_segment_0479.mat',\n",
        " 'D:/gingivere/Dog_1/Dog_1_interictal_segment_0480.mat',\n",
        " 'D:/gingivere/Dog_1/Dog_1_preictal_segment_0001.mat',\n",
        " 'D:/gingivere/Dog_1/Dog_1_preictal_segment_0002.mat',\n",
        " 'D:/gingivere/Dog_1/Dog_1_preictal_segment_0003.mat',\n",
        " 'D:/gingivere/Dog_1/Dog_1_preictal_segment_0004.mat',\n",
        " 'D:/gingivere/Dog_1/Dog_1_preictal_segment_0005.mat',\n",
        " 'D:/gingivere/Dog_1/Dog_1_preictal_segment_0006.mat',\n",
        " 'D:/gingivere/Dog_1/Dog_1_preictal_segment_0007.mat',\n",
        " 'D:/gingivere/Dog_1/Dog_1_preictal_segment_0008.mat',\n",
        " 'D:/gingivere/Dog_1/Dog_1_preictal_segment_0009.mat',\n",
        " 'D:/gingivere/Dog_1/Dog_1_preictal_segment_0010.mat',\n",
        " 'D:/gingivere/Dog_1/Dog_1_preictal_segment_0011.mat',\n",
        " 'D:/gingivere/Dog_1/Dog_1_preictal_segment_0012.mat',\n",
        " 'D:/gingivere/Dog_1/Dog_1_preictal_segment_0013.mat',\n",
        " 'D:/gingivere/Dog_1/Dog_1_preictal_segment_0014.mat',\n",
        " 'D:/gingivere/Dog_1/Dog_1_preictal_segment_0015.mat',\n",
        " 'D:/gingivere/Dog_1/Dog_1_preictal_segment_0016.mat',\n",
        " 'D:/gingivere/Dog_1/Dog_1_preictal_segment_0017.mat',\n",
        " 'D:/gingivere/Dog_1/Dog_1_preictal_segment_0018.mat',\n",
        " 'D:/gingivere/Dog_1/Dog_1_preictal_segment_0019.mat',\n",
        " 'D:/gingivere/Dog_1/Dog_1_preictal_segment_0020.mat',\n",
        " 'D:/gingivere/Dog_1/Dog_1_preictal_segment_0021.mat',\n",
        " 'D:/gingivere/Dog_1/Dog_1_preictal_segment_0022.mat',\n",
        " 'D:/gingivere/Dog_1/Dog_1_preictal_segment_0023.mat',\n",
        " 'D:/gingivere/Dog_1/Dog_1_preictal_segment_0024.mat']"
       ]
      }
     ],
     "prompt_number": 2
    },
    {
     "cell_type": "code",
     "collapsed": false,
     "input": [
      "paths = generate_mat_tests(\"Dog_1\")\n",
      "[path for path in paths]"
     ],
     "language": "python",
     "metadata": {},
     "outputs": []
    }
   ],
   "metadata": {}
  }
 ]
}