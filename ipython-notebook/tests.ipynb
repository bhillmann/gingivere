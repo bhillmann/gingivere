{
 "metadata": {
  "name": "",
  "signature": "sha256:20224af1561179d9b139541e740075515036d7816206c7106a18d08e763c3679"
 },
 "nbformat": 3,
 "nbformat_minor": 0,
 "worksheets": [
  {
   "cells": [
    {
     "cell_type": "code",
     "collapsed": false,
     "input": [
      "from gingivere.settings import load_settings\n",
      "\n",
      "settings = load_settings(path=\"../SETTINGS.json\")\n",
      "\n",
      "targets = [\n",
      "    'Dog_1',\n",
      "    'Dog_2',\n",
      "    'Dog_3',\n",
      "    'Dog_4',\n",
      "    'Dog_5',\n",
      "    'Patient_1',\n",
      "    'Patient_2'\n",
      "]"
     ],
     "language": "python",
     "metadata": {},
     "outputs": [],
     "prompt_number": 1
    },
    {
     "cell_type": "heading",
     "level": 2,
     "metadata": {},
     "source": [
      "Test Shelve Utility"
     ]
    },
    {
     "cell_type": "code",
     "collapsed": false,
     "input": [
      "%%timeit\n",
      "from gingivere.utilities import Shelve\n",
      "\n",
      "shelve = Shelve()\n",
      "shelve.insert(targets, 'targets')\n",
      "ts = shelve.load('targets')\n",
      "assert targets, ts"
     ],
     "language": "python",
     "metadata": {},
     "outputs": [
      {
       "output_type": "stream",
       "stream": "stdout",
       "text": [
        "100 loops, best of 3: 2.03 ms per loop\n"
       ]
      }
     ],
     "prompt_number": 2
    },
    {
     "cell_type": "heading",
     "level": 2,
     "metadata": {},
     "source": [
      "Test Settings"
     ]
    },
    {
     "cell_type": "code",
     "collapsed": false,
     "input": [
      "from gingivere import SETTINGS\n",
      "\n",
      "SETTINGS.data_dir"
     ],
     "language": "python",
     "metadata": {},
     "outputs": [
      {
       "metadata": {},
       "output_type": "pyout",
       "prompt_number": 3,
       "text": [
        "'D:/gingivere'"
       ]
      }
     ],
     "prompt_number": 3
    },
    {
     "cell_type": "heading",
     "level": 2,
     "metadata": {},
     "source": [
      "Test Load Mats"
     ]
    },
    {
     "cell_type": "code",
     "collapsed": false,
     "input": [
      "import gingivere.data\n",
      "\n",
      "for i in gingivere.data.generate_mats(\"Dog_2\"):\n",
      "    print(i)\n",
      "\n"
     ],
     "language": "python",
     "metadata": {},
     "outputs": [
      {
       "metadata": {},
       "output_type": "pyout",
       "prompt_number": 1,
       "text": [
        "<generator object generate_mats at 0x00000000053E0EE8>"
       ]
      }
     ],
     "prompt_number": 1
    },
    {
     "cell_type": "heading",
     "level": 3,
     "metadata": {},
     "source": [
      "Recipe"
     ]
    },
    {
     "cell_type": "code",
     "collapsed": false,
     "input": [
      "from gingivere.recipe import Recipe\n",
      "\n",
      "r = Recipe([\"fast\", \"learn\"])\n"
     ],
     "language": "python",
     "metadata": {},
     "outputs": []
    },
    {
     "cell_type": "code",
     "collapsed": false,
     "input": [
      "for transform in r.transforms:\n",
      "    print(transform)"
     ],
     "language": "python",
     "metadata": {},
     "outputs": []
    },
    {
     "cell_type": "code",
     "collapsed": false,
     "input": [
      "from numbapro import vectorize\n",
      "\n",
      "@vectorize(['float32(float32, float32)'], target='cpu')\n",
      "def sum(a, b):\n",
      "    return a + b"
     ],
     "language": "python",
     "metadata": {},
     "outputs": []
    },
    {
     "cell_type": "code",
     "collapsed": false,
     "input": [
      "from numbapro import vectorize\n",
      "from numpy import arange\n",
      "\n",
      "@vectorize(['float32(float32, float32)'], target='cpu') # default to 'cpu'\n",
      "def add2(a, b):\n",
      "    return a + b\n",
      "\n",
      "X = arange(10, dtype='float32')\n",
      "Y = X * 2\n",
      "print(add2(X, Y))\n",
      "print(add2.reduce(X))"
     ],
     "language": "python",
     "metadata": {},
     "outputs": []
    },
    {
     "cell_type": "code",
     "collapsed": false,
     "input": [],
     "language": "python",
     "metadata": {},
     "outputs": []
    }
   ],
   "metadata": {}
  }
 ]
}