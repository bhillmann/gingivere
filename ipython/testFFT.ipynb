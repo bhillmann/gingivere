{
 "metadata": {
  "name": "",
  "signature": "sha256:aab88957c801a115516d379a25858fa80df578f948413e8b8417a9faa433864d"
 },
 "nbformat": 3,
 "nbformat_minor": 0,
 "worksheets": [
  {
   "cells": [
    {
     "cell_type": "code",
     "collapsed": false,
     "input": [
      "%pylab\n",
      "import pandas as pd\n",
      "from scipy.fftpack import *"
     ],
     "language": "python",
     "metadata": {},
     "outputs": [
      {
       "output_type": "stream",
       "stream": "stdout",
       "text": [
        "Using matplotlib backend: Qt4Agg\n",
        "Populating the interactive namespace from numpy and matplotlib\n"
       ]
      }
     ],
     "prompt_number": 1
    },
    {
     "cell_type": "code",
     "collapsed": false,
     "input": [
      "file = \"D:\\gingivere\\data\\Dog_1_interictal_segment_0001.h5\"\n",
      "store = pd.HDFStore(file)"
     ],
     "language": "python",
     "metadata": {},
     "outputs": [],
     "prompt_number": 2
    },
    {
     "cell_type": "code",
     "collapsed": false,
     "input": [
      "store.keys()"
     ],
     "language": "python",
     "metadata": {},
     "outputs": [
      {
       "metadata": {},
       "output_type": "pyout",
       "prompt_number": 3,
       "text": [
        "['/data']"
       ]
      }
     ],
     "prompt_number": 3
    },
    {
     "cell_type": "code",
     "collapsed": false,
     "input": [
      "data = store['data']"
     ],
     "language": "python",
     "metadata": {},
     "outputs": [],
     "prompt_number": 4
    },
    {
     "cell_type": "code",
     "collapsed": false,
     "input": [
      "store.close()"
     ],
     "language": "python",
     "metadata": {},
     "outputs": [],
     "prompt_number": 5
    },
    {
     "cell_type": "code",
     "collapsed": false,
     "input": [
      "# data.apply(rfft, axis=1)"
     ],
     "language": "python",
     "metadata": {},
     "outputs": [],
     "prompt_number": 6
    },
    {
     "cell_type": "code",
     "collapsed": false,
     "input": [
      "def pl_power_spectrum(datum):\n",
      "    plt.subplot(311)\n",
      "    plt.plot(range(len(datum)), datum, 'r')\n",
      "    xlabel(\"Time\")\n",
      "    F = rfft(datum)\n",
      "    N = datum.shape[0]\n",
      "    dt = 1/400\n",
      "    w = rfftfreq(N, dt)\n",
      "    plt.subplot(312)\n",
      "    plt.plot(w, F, 'b-')\n",
      "    ylabel(\"POWER\")\n",
      "    subplot(313)\n",
      "    plot(w, F, 'b-')\n",
      "    xlim([0, 50])          # replot but zoom in on freqs 0-50 Hz\n",
      "    ylabel(\"POWER\")\n",
      "    xlabel(\"FREQUENCY (Hz)\")\n",
      "    plt.show()\n",
      "    return w"
     ],
     "language": "python",
     "metadata": {},
     "outputs": [],
     "prompt_number": 23
    },
    {
     "cell_type": "code",
     "collapsed": false,
     "input": [
      "def window_generator(datum):\n",
      "    window_size = 400*60\n",
      "    size = len(datum)\n",
      "    i = 0\n",
      "    while(i <= size):\n",
      "        yield datum[i:i+window_size]\n",
      "        i += int(window_size/2)\n",
      "\n",
      "datum = data[:1].values[0]\n",
      "windowed = np.asarray([x for x in window_generator(datum)])"
     ],
     "language": "python",
     "metadata": {},
     "outputs": [],
     "prompt_number": 24
    },
    {
     "cell_type": "code",
     "collapsed": false,
     "input": [
      "w = pl_power_spectrum(windowed[0])"
     ],
     "language": "python",
     "metadata": {},
     "outputs": [],
     "prompt_number": 25
    },
    {
     "cell_type": "code",
     "collapsed": false,
     "input": [
      "w"
     ],
     "language": "python",
     "metadata": {},
     "outputs": [
      {
       "metadata": {},
       "output_type": "pyout",
       "prompt_number": 10,
       "text": [
        "array([  0.00000000e+00,   1.66666667e-02,   1.66666667e-02, ...,\n",
        "         1.99983333e+02,   1.99983333e+02,   2.00000000e+02])"
       ]
      }
     ],
     "prompt_number": 10
    },
    {
     "cell_type": "code",
     "collapsed": false,
     "input": [
      "len(w)"
     ],
     "language": "python",
     "metadata": {},
     "outputs": [
      {
       "metadata": {},
       "output_type": "pyout",
       "prompt_number": 22,
       "text": [
        "24000"
       ]
      }
     ],
     "prompt_number": 22
    },
    {
     "cell_type": "code",
     "collapsed": false,
     "input": [
      "def plot_all(data):\n",
      "    num_rows = len(data)\n",
      "    for i, row in enumerate(data):\n",
      "        plt.subplot(num_rows, 1, i+1)\n",
      "        plt.plot(range(, row, 'g')"
     ],
     "language": "python",
     "metadata": {},
     "outputs": [],
     "prompt_number": 32
    },
    {
     "cell_type": "code",
     "collapsed": false,
     "input": [
      "plot_all(data.values)"
     ],
     "language": "python",
     "metadata": {},
     "outputs": [],
     "prompt_number": 36
    },
    {
     "cell_type": "code",
     "collapsed": false,
     "input": [
      "data.values"
     ],
     "language": "python",
     "metadata": {},
     "outputs": [
      {
       "metadata": {},
       "output_type": "pyout",
       "prompt_number": 35,
       "text": [
        "array([[  0.,  13.,  15., ..., -25., -21., -12.],\n",
        "       [-26.,  -4.,  11., ..., -39., -32., -21.],\n",
        "       [-42., -35., -19., ..., -16., -16., -18.],\n",
        "       ..., \n",
        "       [ 45.,  30.,  25., ...,  43.,  28.,  17.],\n",
        "       [ 15.,   8.,  -6., ...,  14.,  13.,   6.],\n",
        "       [-18., -20., -19., ...,   9.,   9.,   3.]])"
       ]
      }
     ],
     "prompt_number": 35
    },
    {
     "cell_type": "code",
     "collapsed": false,
     "input": [
      "data.index"
     ],
     "language": "python",
     "metadata": {},
     "outputs": [
      {
       "metadata": {},
       "output_type": "pyout",
       "prompt_number": 37,
       "text": [
        "Index(['NVC1202_32_002_Ecog_c001', 'NVC1202_32_002_Ecog_c002', 'NVC1202_32_002_Ecog_c003', 'NVC1202_32_002_Ecog_c004', 'NVC1202_32_002_Ecog_c005', 'NVC1202_32_002_Ecog_c006', 'NVC1202_32_002_Ecog_c007', 'NVC1202_32_002_Ecog_c008', 'NVC1202_32_002_Ecog_c009', 'NVC1202_32_002_Ecog_c010', 'NVC1202_32_002_Ecog_c011', 'NVC1202_32_002_Ecog_c012', 'NVC1202_32_002_Ecog_c013', 'NVC1202_32_002_Ecog_c014', 'NVC1202_32_002_Ecog_c015', 'NVC1202_32_002_Ecog_c016'], dtype='object')"
       ]
      }
     ],
     "prompt_number": 37
    },
    {
     "cell_type": "code",
     "collapsed": false,
     "input": [],
     "language": "python",
     "metadata": {},
     "outputs": []
    }
   ],
   "metadata": {}
  }
 ]
}